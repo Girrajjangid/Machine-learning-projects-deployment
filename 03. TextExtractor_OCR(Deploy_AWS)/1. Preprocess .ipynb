{
 "cells": [
  {
   "cell_type": "markdown",
   "metadata": {},
   "source": [
    "Build a RESTful service that extracts expense date from a receipt. Please feel free to use any language and framework of your choice. Deploy the service on any cloud platform like Heroku/AWS/GCP. The service should contain one API which has the following contract:\n",
    "\n",
    "Request:\n",
    "POST /extract_date\n",
    "\n",
    "Payload:\n",
    "{“base_64_image_content”: <base_64_image_content>}\n",
    "\n",
    "Response:\n",
    "If date is present:\n",
    "{“date”: “YYYY-MM-DD”}\n",
    "If date is not present:\n",
    "{“date”: null}\n",
    "\n",
    "Calculate the accuracy of the service against the sample receipts dataset given. This can be calculated as follows:\n",
    "\n",
    "accuracy = (number of receipts for which the service extracted correct date/total receipts)*100%\n"
   ]
  },
  {
   "cell_type": "code",
   "execution_count": 1,
   "metadata": {},
   "outputs": [],
   "source": [
    "from PIL import Image\n",
    "import pytesseract as pt\n",
    "import glob\n",
    "import re\n",
    "from dateutil.parser import parse\n",
    "import dateparser\n",
    "from dateparser.search import search_dates\n",
    "from datefinder import find_dates\n",
    "pt.pytesseract.tesseract_cmd = 'C:/Program Files/Tesseract-OCR/tesseract.exe'\n",
    "import cv2\n",
    "import numpy as np\n",
    "import pandas as pd"
   ]
  },
  {
   "cell_type": "code",
   "execution_count": 36,
   "metadata": {},
   "outputs": [],
   "source": [
    "#img_paths = glob.glob('images/*')\n",
    "# '2b931f74.jpeg'\n",
    "img_str = pt.image_to_string('images/21.jpeg')"
   ]
  },
  {
   "cell_type": "code",
   "execution_count": null,
   "metadata": {},
   "outputs": [],
   "source": [
    "Image.open('new.png')"
   ]
  },
  {
   "cell_type": "code",
   "execution_count": 37,
   "metadata": {
    "collapsed": true
   },
   "outputs": [
    {
     "name": "stdout",
     "output_type": "stream",
     "text": [
      "Whurat\n",
      "\n",
      "UDAYA FILLING STATION\n",
      "\n",
      "MATTUPATTY ROAD\n",
      "\n",
      "MUNNAR\n",
      "\n",
      "04865230318\n",
      "ORIGINAL\n",
      "\n",
      "De DD De Da ED eH DAC Da a Da Oa DC Oa DO Dt Oe\n",
      "\n",
      "29-MAY -2019 14:02:23\n",
      "INVOICE NO: 292 ty\n",
      "VEHICLE NO: NOT ENTERED ie Le\n",
      "NOZZLE NO : 1 f i\n",
      "PRODUCT: PETROL\n",
      "\n",
      "RATE : 75.01 INR/Ltr\n",
      "VOLUMES 1,33. Lt¢\n",
      "AMOUNT: 100.00 INR\n",
      "\n",
      "ek DA DH DE DC DE DRC DC DDC cok DE DC CDC DC DE DE\n",
      "\n",
      "S.T..No : 27430268741C\n",
      "M.S.T. No: 27430268741V\n",
      "\n",
      "pe TE ETA CT a DD OC DRE I BOC IE DOC\n",
      "\n",
      "Thank You! Visit Again\n"
     ]
    }
   ],
   "source": [
    "print(img_str)"
   ]
  },
  {
   "cell_type": "code",
   "execution_count": 99,
   "metadata": {},
   "outputs": [],
   "source": [
    "img_str = ll[3]"
   ]
  },
  {
   "cell_type": "code",
   "execution_count": 100,
   "metadata": {},
   "outputs": [],
   "source": [
    "newstr = list(set(map(lambda x : x.strip(), img_str.split('\\n'))))"
   ]
  },
  {
   "cell_type": "code",
   "execution_count": 112,
   "metadata": {
    "collapsed": true
   },
   "outputs": [
    {
     "data": {
      "text/plain": [
       "['',\n",
       " 'BOLDEN BOWL TERLYAK |',\n",
       " 'TOTAL. E15. 03',\n",
       " '1 + AVOCADO $1.95',\n",
       " '1 MD. DRINK $2.29',\n",
       " 'CG $4.97',\n",
       " 'OFZDE Rt cooo141',\n",
       " 'CASH $20. 00',\n",
       " 'TAX $1. 40',\n",
       " '1 #1 CHKN PILATE $9, 34',\n",
       " 'TEL: (6132) 928-8999',\n",
       " 'Manéger1 MC #01 000 14%',\n",
       " '*KHE RE.',\n",
       " 'REG 05-18-2019 11:19 AM',\n",
       " 'SOUTH GATE, CA, 90280',\n",
       " '819 GARFIELD AVE.']"
      ]
     },
     "execution_count": 112,
     "metadata": {},
     "output_type": "execute_result"
    }
   ],
   "source": [
    "newstr"
   ]
  },
  {
   "cell_type": "code",
   "execution_count": 113,
   "metadata": {
    "collapsed": true
   },
   "outputs": [
    {
     "data": {
      "text/plain": [
       "[('11:19', datetime.datetime(2019, 11, 23, 11, 19))]"
      ]
     },
     "execution_count": 113,
     "metadata": {},
     "output_type": "execute_result"
    }
   ],
   "source": [
    "# Raise this issue on Github\n",
    "search_dates(\"REG 05-18-2019 11:19 AM\")"
   ]
  },
  {
   "cell_type": "code",
   "execution_count": 102,
   "metadata": {},
   "outputs": [],
   "source": [
    "tags = []\n",
    "for i in newstr:\n",
    "    try:\n",
    "        find_date = search_dates(i) \n",
    "    except:\n",
    "        continue\n",
    "    if find_date:\n",
    "        for j in find_date:\n",
    "            tags.append(j[0])"
   ]
  },
  {
   "cell_type": "code",
   "execution_count": 103,
   "metadata": {
    "collapsed": true
   },
   "outputs": [
    {
     "data": {
      "text/plain": [
       "['1 +',\n",
       " '1 MD',\n",
       " '$20',\n",
       " '1 #1',\n",
       " '$9, 34',\n",
       " '6132',\n",
       " '#01',\n",
       " '000',\n",
       " '14%',\n",
       " '11:19',\n",
       " 'CA',\n",
       " '90280',\n",
       " '819']"
      ]
     },
     "execution_count": 103,
     "metadata": {},
     "output_type": "execute_result"
    }
   ],
   "source": [
    "tags"
   ]
  },
  {
   "cell_type": "code",
   "execution_count": 57,
   "metadata": {},
   "outputs": [],
   "source": [
    "\n",
    "re.search(pattern1, \"04865230318\")"
   ]
  },
  {
   "cell_type": "code",
   "execution_count": 105,
   "metadata": {},
   "outputs": [],
   "source": [
    "pattern1 = r\"(\\d{1,4}([.'’\\-/])\\d{1,2}([.'’\\-/])\\d{1,4})\"\n",
    "pattern2 = r\"(\\d{1,4}([.'’\\-/\\s])[ADFJMNOSadfjmnos]\\w*([.'’\\-/\\s]*)\\d{1,4})\"\n",
    "pattern3 = r\"([ADFJMNOSadfjmnos]\\w*\\s\\d{1,4}([,'’.\\-/\\s]*)([.'’\\-/\\s])\\d{1,4})\"\n",
    "pattern4 = r\"[ADFJMNOSadfjmnos]\\w*\\d{1,4}(['’]*)\\d{1,4}\"\n",
    "pattern5 = r\"(\\d{1,4}([.'’\\-/\\s])\\d{1,4}\""
   ]
  },
  {
   "cell_type": "code",
   "execution_count": 106,
   "metadata": {},
   "outputs": [],
   "source": [
    "date_find = []"
   ]
  },
  {
   "cell_type": "code",
   "execution_count": 107,
   "metadata": {},
   "outputs": [
    {
     "name": "stdout",
     "output_type": "stream",
     "text": [
      "string:  OFZDE Rt cooo141  sequence:  ooo141\n",
      "string:  REG 05-18-2019 11:19 AM  sequence:  05-18-2019\n"
     ]
    }
   ],
   "source": [
    "for i in newstr:\n",
    "    for j in (re.search(regex,i) for regex in [pattern1, pattern2, pattern3, pattern4]):\n",
    "        if j:\n",
    "            s = j.group()\n",
    "            \n",
    "            if s.find('.'):\n",
    "                date_find.append(\"-\".join(s.split('.')))\n",
    "            else:\n",
    "                date_find.append(s)\n",
    "            print('string: ',i,' sequence: ',s)"
   ]
  },
  {
   "cell_type": "code",
   "execution_count": 108,
   "metadata": {},
   "outputs": [
    {
     "data": {
      "text/plain": [
       "['ooo141', '05-18-2019']"
      ]
     },
     "execution_count": 108,
     "metadata": {},
     "output_type": "execute_result"
    }
   ],
   "source": [
    "date_find"
   ]
  },
  {
   "cell_type": "code",
   "execution_count": 109,
   "metadata": {},
   "outputs": [],
   "source": [
    "date_find = list(set(date_find))"
   ]
  },
  {
   "cell_type": "code",
   "execution_count": null,
   "metadata": {},
   "outputs": [],
   "source": []
  },
  {
   "cell_type": "code",
   "execution_count": 110,
   "metadata": {},
   "outputs": [],
   "source": [
    "dates = {}\n",
    "for i in date_find:\n",
    "    try:\n",
    "        dates[i] = search_dates(i)[0][1].strftime(\"%Y-%m-%d\")\n",
    "    except:\n",
    "        continue\n"
   ]
  },
  {
   "cell_type": "code",
   "execution_count": 111,
   "metadata": {},
   "outputs": [
    {
     "data": {
      "text/plain": [
       "{'05-18-2019': '2019-05-18'}"
      ]
     },
     "execution_count": 111,
     "metadata": {},
     "output_type": "execute_result"
    }
   ],
   "source": [
    "dates"
   ]
  },
  {
   "cell_type": "code",
   "execution_count": 33,
   "metadata": {},
   "outputs": [
    {
     "name": "stdout",
     "output_type": "stream",
     "text": [
      "2019-05-29\n"
     ]
    }
   ],
   "source": [
    "if dates:\n",
    "    print(min(dates.values()))"
   ]
  },
  {
   "cell_type": "code",
   "execution_count": null,
   "metadata": {},
   "outputs": [],
   "source": []
  },
  {
   "cell_type": "code",
   "execution_count": null,
   "metadata": {},
   "outputs": [],
   "source": [
    "import pandas as pd"
   ]
  },
  {
   "cell_type": "code",
   "execution_count": null,
   "metadata": {},
   "outputs": [],
   "source": [
    "raw = pd.read_csv('image_data.csv',header = None)\n",
    "raw.index = pd.RangeIndex(1,101,1)"
   ]
  },
  {
   "cell_type": "code",
   "execution_count": null,
   "metadata": {},
   "outputs": [],
   "source": [
    "raw.isna().sum()"
   ]
  },
  {
   "cell_type": "code",
   "execution_count": null,
   "metadata": {},
   "outputs": [],
   "source": [
    "raw.head()"
   ]
  },
  {
   "cell_type": "code",
   "execution_count": null,
   "metadata": {},
   "outputs": [],
   "source": [
    "# updating with dates\n",
    "for i in raw.iloc[:,0].dropna().index: \n",
    "    if search_dates(raw.loc[i,0]):\n",
    "        raw.loc[i,1]= search_dates(raw.loc[i,0])[0][1].strftime(\"%Y-%m-%d\")"
   ]
  },
  {
   "cell_type": "code",
   "execution_count": null,
   "metadata": {},
   "outputs": [],
   "source": [
    "raw.columns = ['actual','converted']"
   ]
  },
  {
   "cell_type": "code",
   "execution_count": null,
   "metadata": {},
   "outputs": [],
   "source": [
    "raw.head()"
   ]
  },
  {
   "cell_type": "code",
   "execution_count": null,
   "metadata": {},
   "outputs": [],
   "source": []
  },
  {
   "cell_type": "code",
   "execution_count": null,
   "metadata": {},
   "outputs": [],
   "source": []
  },
  {
   "cell_type": "code",
   "execution_count": 92,
   "metadata": {},
   "outputs": [],
   "source": [
    "def preprocessing(img_str):\n",
    "    newstr = list(set(map(lambda x : x.strip(), img_str.split('\\n'))))\n",
    "    tags = []\n",
    "    for i in newstr:\n",
    "        try:\n",
    "            find_date = search_dates(i) \n",
    "        except:\n",
    "            continue\n",
    "        if find_date:\n",
    "            for j in find_date:\n",
    "                tags.append(j[0])\n",
    "\n",
    "    pattern1 = r\"(\\d{1,4}([.'’\\-/])\\d{1,2}([.'’\\-/])\\d{1,4})\"\n",
    "    pattern2 = r\"(\\d{1,4}([.'’\\-/\\s])[ADFJMNOSadfjmnos]\\w*([.'’\\-/\\s]*)\\d{1,4})\"\n",
    "    pattern3 = r\"([ADFJMNOSadfjmnos]\\w*\\s\\d{1,4}([,'’.\\-/\\s]*)([.'’\\-/\\s])\\d{1,4})\"\n",
    "    pattern4 = r\"[ADFJMNOSadfjmnos]\\w*\\d{1,4}(['’]*)\\d{1,4}\"\n",
    "    pattern5 = r\"(\\d{1,4}([.'’\\-/\\s])\\d{1,4}\"\n",
    "    \n",
    "    date_find = []\n",
    "\n",
    "    for i in tags:\n",
    "        for j in (re.search(regex,i) for regex in [pattern1, pattern2, pattern3, pattern4]):\n",
    "            if j:\n",
    "                s = j.group()\n",
    "                if s.find('.'):\n",
    "                    date_find.append(\"-\".join(s.split('.')))\n",
    "                else:\n",
    "                    date_find.append(s)\n",
    "\n",
    "    date_find = list(set(date_find))\n",
    "\n",
    "    dates = {}\n",
    "    for i in date_find:\n",
    "        try:\n",
    "            dates[i] = search_dates(i)[0][1].strftime(\"%Y-%m-%d\")\n",
    "        except:\n",
    "            continue\n",
    "    print(dates)\n",
    "    if dates:\n",
    "        #print(min(dates.values()))\n",
    "        return min(dates.values())\n",
    "    return None"
   ]
  },
  {
   "cell_type": "code",
   "execution_count": 97,
   "metadata": {},
   "outputs": [
    {
     "ename": "IndexError",
     "evalue": "list index out of range",
     "output_type": "error",
     "traceback": [
      "\u001b[1;31m---------------------------------------------------------------------------\u001b[0m",
      "\u001b[1;31mIndexError\u001b[0m                                Traceback (most recent call last)",
      "\u001b[1;32m<ipython-input-97-9993fa00338f>\u001b[0m in \u001b[0;36m<module>\u001b[1;34m()\u001b[0m\n\u001b[1;32m----> 1\u001b[1;33m \u001b[0mpreprocessing\u001b[0m\u001b[1;33m(\u001b[0m\u001b[0mll\u001b[0m\u001b[1;33m[\u001b[0m\u001b[1;36m4\u001b[0m\u001b[1;33m]\u001b[0m\u001b[1;33m)\u001b[0m\u001b[1;33m\u001b[0m\u001b[0m\n\u001b[0m",
      "\u001b[1;31mIndexError\u001b[0m: list index out of range"
     ]
    }
   ],
   "source": [
    "preprocessing(ll[])"
   ]
  },
  {
   "cell_type": "code",
   "execution_count": null,
   "metadata": {},
   "outputs": [],
   "source": [
    "raw = pd.read_csv('image_data.csv')"
   ]
  },
  {
   "cell_type": "code",
   "execution_count": null,
   "metadata": {},
   "outputs": [],
   "source": [
    "raw['predicted_2'] = None"
   ]
  },
  {
   "cell_type": "code",
   "execution_count": null,
   "metadata": {},
   "outputs": [],
   "source": [
    "raw.head()"
   ]
  },
  {
   "cell_type": "code",
   "execution_count": null,
   "metadata": {},
   "outputs": [],
   "source": [
    "raw.head()"
   ]
  },
  {
   "cell_type": "code",
   "execution_count": null,
   "metadata": {},
   "outputs": [],
   "source": [
    "for i in raw.index:\n",
    "    path = \"images/\" + str(i) + \".jpeg\"\n",
    "    print(i,end=' : ')\n",
    "    date = preprocessing(path)\n",
    "    raw.loc[i,'predicted_2'] = date"
   ]
  },
  {
   "cell_type": "code",
   "execution_count": null,
   "metadata": {},
   "outputs": [],
   "source": []
  },
  {
   "cell_type": "code",
   "execution_count": null,
   "metadata": {},
   "outputs": [],
   "source": [
    "raw.to_csv('image_data.csv')"
   ]
  },
  {
   "cell_type": "code",
   "execution_count": null,
   "metadata": {},
   "outputs": [],
   "source": [
    "from sklearn.metrics import classification_report"
   ]
  },
  {
   "cell_type": "code",
   "execution_count": null,
   "metadata": {},
   "outputs": [],
   "source": [
    "(raw.converted == raw.predicted_2).value_counts()"
   ]
  },
  {
   "cell_type": "code",
   "execution_count": null,
   "metadata": {},
   "outputs": [],
   "source": [
    "(raw.converted == raw.predicted).value_counts()"
   ]
  },
  {
   "cell_type": "markdown",
   "metadata": {},
   "source": [
    "# 35% accuracy on intial attempt"
   ]
  },
  {
   "cell_type": "code",
   "execution_count": 62,
   "metadata": {},
   "outputs": [],
   "source": [
    "def globalpreprocess(path):\n",
    "    \n",
    "    img_str_1 = pt.image_to_string(path, lang='eng')\n",
    "    \n",
    "    gaussian_filter = (5,5)\n",
    "    img = cv2.imread(path) \n",
    "    img = cv2.resize(img, None, fx=2, fy=2, interpolation=cv2.INTER_CUBIC) \n",
    "    img_gray = cv2.cvtColor(img, cv2.COLOR_BGR2GRAY)\n",
    "    img_blur = cv2.GaussianBlur(img_gray, gaussian_filter, 0)\n",
    "    img_str_2 = pt.image_to_string(Image.fromarray(img_blur),lang =\"eng\")\n",
    "    \n",
    "    kernel = np.ones((1, 1), np.uint8)\n",
    "    img_dilate = cv2.dilate(img_gray, kernel, iterations=1)\n",
    "    img_erode = cv2.erode(img_dilate, kernel, iterations=1)\n",
    "    img_gauss = cv2.GaussianBlur(img_erode, gaussian_filter, 0)\n",
    "    img_ad_thres = cv2.adaptiveThreshold(img_gauss, 255, cv2.ADAPTIVE_THRESH_GAUSSIAN_C, cv2.THRESH_BINARY, 31, 2)\n",
    "    img_str_3 = pt.image_to_string(Image.fromarray(img_ad_thres),lang='eng')\n",
    "\n",
    "    ret,th1 = cv2.threshold(img_gauss, 100, 225, cv2.THRESH_BINARY)\n",
    "    img_str_4 = pt.image_to_string(Image.fromarray(th1), lang = 'eng')\n",
    "\n",
    "    return [img_str_1,img_str_2,img_str_3,img_str_4]"
   ]
  },
  {
   "cell_type": "code",
   "execution_count": 87,
   "metadata": {},
   "outputs": [],
   "source": [
    "path = 'images/45.jpeg'\n",
    "ll = globalpreprocess(path)"
   ]
  },
  {
   "cell_type": "code",
   "execution_count": 98,
   "metadata": {},
   "outputs": [
    {
     "name": "stdout",
     "output_type": "stream",
     "text": [
      "BOLDEN BOWL TERLYAK |\n",
      "819 GARFIELD AVE.\n",
      "SOUTH GATE, CA, 90280\n",
      "\n",
      "TEL: (6132) 928-8999\n",
      "\n",
      "REG 05-18-2019 11:19 AM\n",
      "Manéger1 MC #01 000 14%\n",
      "\n",
      "OFZDE Rt cooo141\n",
      "\n",
      "1 #1 CHKN PILATE $9, 34\n",
      "1 + AVOCADO $1.95\n",
      "1 MD. DRINK $2.29\n",
      "*KHE RE.\n",
      "TAX $1. 40\n",
      "TOTAL. E15. 03\n",
      "CASH $20. 00\n",
      "CG $4.97\n"
     ]
    }
   ],
   "source": [
    "print(ll[3])"
   ]
  }
 ],
 "metadata": {
  "kernelspec": {
   "display_name": "Python 3",
   "language": "python",
   "name": "python3"
  },
  "language_info": {
   "codemirror_mode": {
    "name": "ipython",
    "version": 3
   },
   "file_extension": ".py",
   "mimetype": "text/x-python",
   "name": "python",
   "nbconvert_exporter": "python",
   "pygments_lexer": "ipython3",
   "version": "3.6.5"
  }
 },
 "nbformat": 4,
 "nbformat_minor": 2
}
