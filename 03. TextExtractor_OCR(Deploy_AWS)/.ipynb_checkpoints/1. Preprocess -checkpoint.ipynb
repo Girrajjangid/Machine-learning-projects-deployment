{
 "cells": [
  {
   "cell_type": "markdown",
   "metadata": {},
   "source": [
    "Build a RESTful service that extracts expense date from a receipt. Please feel free to use any language and framework of your choice. Deploy the service on any cloud platform like Heroku/AWS/GCP. The service should contain one API which has the following contract:\n",
    "\n",
    "Request:\n",
    "POST /extract_date\n",
    "\n",
    "Payload:\n",
    "{“base_64_image_content”: <base_64_image_content>}\n",
    "\n",
    "Response:\n",
    "If date is present:\n",
    "{“date”: “YYYY-MM-DD”}\n",
    "If date is not present:\n",
    "{“date”: null}\n",
    "\n",
    "Calculate the accuracy of the service against the sample receipts dataset given. This can be calculated as follows:\n",
    "\n",
    "accuracy = (number of receipts for which the service extracted correct date/total receipts)*100%\n"
   ]
  },
  {
   "cell_type": "code",
   "execution_count": 1,
   "metadata": {},
   "outputs": [],
   "source": [
    "from PIL import Image\n",
    "import pytesseract as pt\n",
    "import glob\n",
    "import re\n",
    "from dateutil.parser import parse\n",
    "import dateparser\n",
    "from dateparser.search import search_dates\n",
    "from datefinder import find_dates\n",
    "pt.pytesseract.tesseract_cmd = 'C:/Program Files/Tesseract-OCR/tesseract.exe'\n",
    "import cv2\n",
    "import numpy as np\n",
    "import pandas as pd"
   ]
  },
  {
   "cell_type": "code",
   "execution_count": 80,
   "metadata": {},
   "outputs": [],
   "source": [
    "#img_paths = glob.glob('images/*')\n",
    "# '2b931f74.jpeg'\n",
    "img_str = pt.image_to_string('images/14.jpeg')"
   ]
  },
  {
   "cell_type": "code",
   "execution_count": 81,
   "metadata": {
    "scrolled": true
   },
   "outputs": [
    {
     "name": "stdout",
     "output_type": "stream",
     "text": [
      "nels -URA PLAZA\n",
      "FROW 2.50 10 KH 220.06\n",
      "\n",
      "ee FOR TOLL FEE\n",
      "\n",
      "TRH 16:20109815880 SCHERE : SINGLE\n",
      "UEH TYPE: CAR/JEEP/UVAN TOLL FARE:Rs.60\n",
      "\n",
      "REG HO: 1620 USER ID:RAKE1117\n",
      "LAWE 0:07 DATE:22/Ju1/2019 06:40\n",
      "% Exetsericy Ho. +91-9309366001/1422231999 x\n"
     ]
    }
   ],
   "source": [
    "print(img_str)"
   ]
  },
  {
   "cell_type": "code",
   "execution_count": 99,
   "metadata": {},
   "outputs": [],
   "source": [
    "img_str = ll[3]"
   ]
  },
  {
   "cell_type": "code",
   "execution_count": 107,
   "metadata": {},
   "outputs": [],
   "source": []
  },
  {
   "cell_type": "code",
   "execution_count": 194,
   "metadata": {},
   "outputs": [],
   "source": [
    "def spread(arg):\n",
    "    ret = []\n",
    "    for i in arg:\n",
    "        if isinstance(i, list):\n",
    "            ret.extend(i)\n",
    "        else:\n",
    "            ret.append(i)\n",
    "    return ret\n",
    "\n",
    "def deep_flatten(lst):\n",
    "    result = []\n",
    "    result.extend(spread(list(map(lambda x: deep_flatten(x) if type(x) == list else x, lst))))\n",
    "    return result"
   ]
  },
  {
   "cell_type": "code",
   "execution_count": 254,
   "metadata": {},
   "outputs": [],
   "source": [
    "z = [list(set(map(lambda x: x.strip(),img.split('\\n')))) for img in ll]\n",
    "newstr = set(deep_flatten(z))"
   ]
  },
  {
   "cell_type": "code",
   "execution_count": 255,
   "metadata": {
    "scrolled": true
   },
   "outputs": [
    {
     "data": {
      "text/plain": [
       "{'',\n",
       " '\"> DEVUATHAPLAZA  BNCLR &',\n",
       " '& GST 29ALBPS9132K12L',\n",
       " ', 4',\n",
       " \". . ' ‘.— Ve\",\n",
       " '. 1 os 3ri>',\n",
       " '0 {rho ways Be ie.',\n",
       " '06ST 6 2.508 +',\n",
       " '160.00',\n",
       " '1PL',\n",
       " '2°. “GENESIS: FOODS: PLATTER',\n",
       " '4',\n",
       " '4 % if',\n",
       " '4PL',\n",
       " '<A ? AE Fe Sin',\n",
       " '=',\n",
       " 'A Bae gra eS OR EE',\n",
       " 'AL le',\n",
       " 'ALCO ONIGN MEX',\n",
       " 'AMOUNT',\n",
       " 'ANN I cadet',\n",
       " 'Ali >',\n",
       " 'BEALL P',\n",
       " 'BILL NO: 3067 DT: 22/05/19 13:59',\n",
       " 'BILL NO: 3067 OT: 22/05/19 13:59',\n",
       " 'BILL NOs 3067 DT: 22/05/19 13:59',\n",
       " 'By',\n",
       " 'C a : “Yee',\n",
       " 'C6ST 3 2.50. :',\n",
       " 'CHOLA BHATUSA',\n",
       " 'DEUATHAPLAZA GNCLR',\n",
       " 'DEVATHAPL ARCH BNGLR',\n",
       " 'DEVATHAPLAZA BNOLR',\n",
       " 'FOOD ITEM WITHIN 3 HOURS',\n",
       " 'FOOD, ITEM WITHIN 3 HOURS',\n",
       " 'GENESIS FOODS PLATTER',\n",
       " 'GRAND TOTAL : 2',\n",
       " 'GST & 2.50;',\n",
       " 'GST 29ALBPS9132K12L',\n",
       " 'GST 2SALBPS9132K12L',\n",
       " 'Ht',\n",
       " 'Mi Yd * “Ot te',\n",
       " 'OF PACKAGE 4 DELIVERY',\n",
       " 'OF PACKAGE DELIVERY',\n",
       " 'PLEASE CONSUME ALL PACKED',\n",
       " 'PLEASE CONSUME FLL PRED',\n",
       " 'PLEASE: CONSUME: ALL. ‘',\n",
       " 'PO Ce me eens A ra aa al a aT ime path iar',\n",
       " 'PUK) EIEM',\n",
       " 'Pew tt',\n",
       " 'Ree eet',\n",
       " 'S6ST 3 2.50:',\n",
       " 'SA) eh',\n",
       " 'SESS reas ee SS che eae pe',\n",
       " 'SSeS =',\n",
       " 'SUEET LASSI',\n",
       " 'Se BG',\n",
       " 'Sel',\n",
       " 'Ses eek',\n",
       " 'Sp a',\n",
       " 'TAWA ALCO PUL AY',\n",
       " 'TOTAL 6ST',\n",
       " 'TOTAL GST.',\n",
       " 'TPL 90.00',\n",
       " 'TTEm: 5 /Qty. 10',\n",
       " 'aa ee',\n",
       " 'beg? 4',\n",
       " 'bone, telere te ate\" Aik hee',\n",
       " 'ePL',\n",
       " 'eS oa CERES fire rN',\n",
       " 'ee',\n",
       " 'ee er pon',\n",
       " 'egal ys',\n",
       " 'fotelets= Tee en ae :',\n",
       " 'i',\n",
       " 'if \"',\n",
       " 'ii',\n",
       " 'oe',\n",
       " 'ra',\n",
       " 'rg TS See aT peg eg :',\n",
       " 'sT/',\n",
       " 'ser 62 aa:',\n",
       " 'yt eng ete',\n",
       " '~',\n",
       " '~! eo W: nit',\n",
       " '¢,',\n",
       " '© OF PACKAGE + DELIVERY,',\n",
       " '—',\n",
       " '‘',\n",
       " '‘ A - 1 ‘4',\n",
       " '‘ Hah LAT SS',\n",
       " '’ 4',\n",
       " '’ LM p< 3',\n",
       " '“FOOD TTEN WITHIN',\n",
       " '“LASS'}"
      ]
     },
     "execution_count": 255,
     "metadata": {},
     "output_type": "execute_result"
    }
   ],
   "source": [
    "# This result is the combination fo 4 inputs different images\n",
    "newstr"
   ]
  },
  {
   "cell_type": "code",
   "execution_count": 82,
   "metadata": {},
   "outputs": [],
   "source": [
    "newstr = list(set(map(lambda x : x.strip(), img_str.split('\\n'))))"
   ]
  },
  {
   "cell_type": "code",
   "execution_count": 83,
   "metadata": {
    "collapsed": true
   },
   "outputs": [
    {
     "data": {
      "text/plain": [
       "['',\n",
       " 'FROW 2.50 10 KH 220.06',\n",
       " '% Exetsericy Ho. +91-9309366001/1422231999 x',\n",
       " 'LAWE 0:07 DATE:22/Ju1/2019 06:40',\n",
       " 'nels -URA PLAZA',\n",
       " 'TRH 16:20109815880 SCHERE : SINGLE',\n",
       " 'UEH TYPE: CAR/JEEP/UVAN TOLL FARE:Rs.60',\n",
       " 'ee FOR TOLL FEE',\n",
       " 'REG HO: 1620 USER ID:RAKE1117']"
      ]
     },
     "execution_count": 83,
     "metadata": {},
     "output_type": "execute_result"
    }
   ],
   "source": [
    "newstr"
   ]
  },
  {
   "cell_type": "code",
   "execution_count": 6,
   "metadata": {},
   "outputs": [
    {
     "data": {
      "text/plain": [
       "[('16:34:06', datetime.datetime(2019, 11, 24, 16, 34, 6))]"
      ]
     },
     "execution_count": 6,
     "metadata": {},
     "output_type": "execute_result"
    }
   ],
   "source": [
    "# Raise this issue on Github\n",
    "search_dates(\"In-Time:2019-07-04 16:34:06\")"
   ]
  },
  {
   "cell_type": "code",
   "execution_count": 23,
   "metadata": {},
   "outputs": [],
   "source": [
    "#### Dont use tags now"
   ]
  },
  {
   "cell_type": "code",
   "execution_count": 84,
   "metadata": {},
   "outputs": [],
   "source": [
    "tags = []\n",
    "for i in newstr:\n",
    "    try:\n",
    "        find_date = search_dates(i) \n",
    "    except:\n",
    "        continue\n",
    "    if find_date:\n",
    "        for j in find_date:\n",
    "            tags.append(j[0])"
   ]
  },
  {
   "cell_type": "code",
   "execution_count": 85,
   "metadata": {},
   "outputs": [
    {
     "data": {
      "text/plain": [
       "['50 10', '220', '0:07', '06:40', 'FEE', '1620']"
      ]
     },
     "execution_count": 85,
     "metadata": {},
     "output_type": "execute_result"
    }
   ],
   "source": [
    "tags"
   ]
  },
  {
   "cell_type": "code",
   "execution_count": 177,
   "metadata": {},
   "outputs": [],
   "source": [
    "pattern1 = r\"(\\d{1,4}([.'’\\-/])\\d{1,2}([.'’\\-/])\\d{1,4})\"\n",
    "pattern2 = r\"(\\d{1,4}([.'’\\-/\\s])[ADFJMNOSadfjmnos]\\w*([.'’\\-/\\s]*)\\d{1,4})\"\n",
    "pattern3 = r\"([ADFJMNOSadfjmnos]\\w*\\s\\d{1,4}([,'’.\\-/\\s]*)([.'’\\-/\\s])\\d{1,4})\"\n",
    "pattern4 = r\"[ADFJMNOSadfjmnos]\\w*\\d{1,4}(['’]*)\\d{1,4}\"\n",
    "pattern5 = r\"(\\d{1,4}([.'’\\-/\\s])\\d{1,4}\""
   ]
  },
  {
   "cell_type": "code",
   "execution_count": 256,
   "metadata": {},
   "outputs": [],
   "source": [
    "date_find = []"
   ]
  },
  {
   "cell_type": "code",
   "execution_count": 257,
   "metadata": {},
   "outputs": [
    {
     "name": "stdout",
     "output_type": "stream",
     "text": [
      "string:  & GST 29ALBPS9132K12L  sequence:  ALBPS9132K12\n",
      "string:  S6ST 3 2.50:  sequence:  S6ST 3 2\n",
      "string:  BILL NO: 3067 DT: 22/05/19 13:59  sequence:  22/05/19\n",
      "string:  GST 29ALBPS9132K12L  sequence:  ALBPS9132K12\n",
      "string:  GST 2SALBPS9132K12L  sequence:  SALBPS9132K12\n",
      "string:  BILL NO: 3067 OT: 22/05/19 13:59  sequence:  22/05/19\n",
      "string:  06ST 6 2.508 +  sequence:  ST 6 2\n",
      "string:  C6ST 3 2.50. :  sequence:  ST 3 2\n",
      "string:  . 1 os 3ri>  sequence:  1 os 3\n",
      "string:  BILL NOs 3067 DT: 22/05/19 13:59  sequence:  22/05/19\n"
     ]
    }
   ],
   "source": [
    "for i in newstr:\n",
    "    for j in (re.search(regex,i) for regex in [pattern1, pattern2, pattern3, pattern4]):\n",
    "        if j:\n",
    "            s = j.group()\n",
    "            \n",
    "            if s.find('.'):\n",
    "                date_find.append(\"-\".join(s.split('.')))\n",
    "            else:\n",
    "                date_find.append(s)\n",
    "            print('string: ',i,' sequence: ',s)"
   ]
  },
  {
   "cell_type": "code",
   "execution_count": 258,
   "metadata": {},
   "outputs": [
    {
     "data": {
      "text/plain": [
       "['ALBPS9132K12',\n",
       " 'S6ST 3 2',\n",
       " '22/05/19',\n",
       " 'ALBPS9132K12',\n",
       " 'SALBPS9132K12',\n",
       " '22/05/19',\n",
       " 'ST 6 2',\n",
       " 'ST 3 2',\n",
       " '1 os 3',\n",
       " '22/05/19']"
      ]
     },
     "execution_count": 258,
     "metadata": {},
     "output_type": "execute_result"
    }
   ],
   "source": [
    "date_find"
   ]
  },
  {
   "cell_type": "code",
   "execution_count": 259,
   "metadata": {},
   "outputs": [],
   "source": [
    "date_find = list(set(date_find))"
   ]
  },
  {
   "cell_type": "code",
   "execution_count": 260,
   "metadata": {},
   "outputs": [
    {
     "data": {
      "text/plain": [
       "['SALBPS9132K12',\n",
       " 'ST 6 2',\n",
       " 'ST 3 2',\n",
       " 'S6ST 3 2',\n",
       " 'ALBPS9132K12',\n",
       " '22/05/19',\n",
       " '1 os 3']"
      ]
     },
     "execution_count": 260,
     "metadata": {},
     "output_type": "execute_result"
    }
   ],
   "source": [
    "date_find"
   ]
  },
  {
   "cell_type": "code",
   "execution_count": 261,
   "metadata": {},
   "outputs": [],
   "source": [
    "dates = []"
   ]
  },
  {
   "cell_type": "code",
   "execution_count": 262,
   "metadata": {},
   "outputs": [
    {
     "name": "stdout",
     "output_type": "stream",
     "text": [
      "ST 6 2  ::  2019-06-02\n",
      "ST 3 2  ::  2019-03-02\n",
      "22/05/19  ::  2019-05-22\n"
     ]
    }
   ],
   "source": [
    "for i in date_find:\n",
    "    try:\n",
    "        print(i,\" :: \",parse(i).strftime(\"%Y-%m-%d\"))\n",
    "        dates.append(parse(i).strftime(\"%Y-%m-%d\"))        \n",
    "    except:\n",
    "        continue"
   ]
  },
  {
   "cell_type": "code",
   "execution_count": 263,
   "metadata": {},
   "outputs": [
    {
     "data": {
      "text/plain": [
       "['2019-06-02', '2019-03-02', '2019-05-22']"
      ]
     },
     "execution_count": 263,
     "metadata": {},
     "output_type": "execute_result"
    }
   ],
   "source": [
    "dates"
   ]
  },
  {
   "cell_type": "code",
   "execution_count": 264,
   "metadata": {},
   "outputs": [],
   "source": [
    "dates = []"
   ]
  },
  {
   "cell_type": "code",
   "execution_count": 265,
   "metadata": {},
   "outputs": [
    {
     "name": "stdout",
     "output_type": "stream",
     "text": [
      "ST 6 2  ::  2019-06-02\n",
      "ST 3 2  ::  2019-03-02\n",
      "22/05/19  ::  2019-05-22\n",
      "1 os 3  ::  2019-03-24\n"
     ]
    }
   ],
   "source": [
    "for i in date_find:\n",
    "    try:\n",
    "        print(i ,' :: ', search_dates(i)[0][1].strftime(\"%Y-%m-%d\"))\n",
    "        dates.append(search_dates(i)[0][1].strftime(\"%Y-%m-%d\"))\n",
    "    except:\n",
    "        continue\n"
   ]
  },
  {
   "cell_type": "code",
   "execution_count": 220,
   "metadata": {},
   "outputs": [
    {
     "data": {
      "text/plain": [
       "{'1766-11-24',\n",
       " '2000-05-24',\n",
       " '2019-04-06',\n",
       " '2019-05-29',\n",
       " '2019-06-28',\n",
       " '2019-07-02',\n",
       " '2019-07-19',\n",
       " '2019-08-24',\n",
       " '2019-11-24',\n",
       " '2019-12-06',\n",
       " '2022-02-04',\n",
       " '2038-05-24',\n",
       " '2039-01-24',\n",
       " '2045-06-24'}"
      ]
     },
     "execution_count": 220,
     "metadata": {},
     "output_type": "execute_result"
    }
   ],
   "source": [
    "dates = set(dates)\n",
    "dates"
   ]
  },
  {
   "cell_type": "code",
   "execution_count": 221,
   "metadata": {},
   "outputs": [
    {
     "data": {
      "text/plain": [
       "['2019-12-06',\n",
       " '2019-07-02',\n",
       " '2019-06-28',\n",
       " '2019-11-24',\n",
       " '2019-05-29',\n",
       " '2019-07-19',\n",
       " '2019-04-06',\n",
       " '2019-08-24']"
      ]
     },
     "execution_count": 221,
     "metadata": {},
     "output_type": "execute_result"
    }
   ],
   "source": [
    "new_dates = []\n",
    "for i in dates:\n",
    "    if 2000 < int(i[:4]) < 2021:\n",
    "        new_dates.append(i)\n",
    "new_dates"
   ]
  },
  {
   "cell_type": "code",
   "execution_count": 126,
   "metadata": {},
   "outputs": [
    {
     "name": "stdout",
     "output_type": "stream",
     "text": [
      "0220-06-24\n"
     ]
    }
   ],
   "source": [
    "if dates:\n",
    "    print(min(dates))"
   ]
  },
  {
   "cell_type": "code",
   "execution_count": 127,
   "metadata": {},
   "outputs": [],
   "source": [
    "import datetime"
   ]
  },
  {
   "cell_type": "code",
   "execution_count": 128,
   "metadata": {},
   "outputs": [
    {
     "data": {
      "text/plain": [
       "datetime.datetime(220, 6, 24, 0, 0)"
      ]
     },
     "execution_count": 128,
     "metadata": {},
     "output_type": "execute_result"
    }
   ],
   "source": [
    "datetime.datetime.strptime(\"0220-06-24\", \"%Y-%m-%d\")"
   ]
  },
  {
   "cell_type": "code",
   "execution_count": 152,
   "metadata": {},
   "outputs": [],
   "source": [
    "def validate(date_text):\n",
    "    try:\n",
    "        if date_text != datetime.datetime.strptime(date_text, \"%Y-%m-%d\").strftime('%Y-%m-%d'):\n",
    "            raise ValueError\n",
    "        return True\n",
    "    except ValueError:\n",
    "        return False"
   ]
  },
  {
   "cell_type": "code",
   "execution_count": 156,
   "metadata": {},
   "outputs": [
    {
     "data": {
      "text/plain": [
       "True"
      ]
     },
     "execution_count": 156,
     "metadata": {},
     "output_type": "execute_result"
    }
   ],
   "source": [
    "validate(\"0220-06-24\")"
   ]
  },
  {
   "cell_type": "code",
   "execution_count": null,
   "metadata": {},
   "outputs": [],
   "source": [
    "import pandas as pd"
   ]
  },
  {
   "cell_type": "code",
   "execution_count": null,
   "metadata": {},
   "outputs": [],
   "source": [
    "raw = pd.read_csv('image_data.csv',header = None)\n",
    "raw.index = pd.RangeIndex(1,101,1)"
   ]
  },
  {
   "cell_type": "code",
   "execution_count": null,
   "metadata": {},
   "outputs": [],
   "source": [
    "raw.isna().sum()"
   ]
  },
  {
   "cell_type": "code",
   "execution_count": null,
   "metadata": {},
   "outputs": [],
   "source": [
    "raw.head()"
   ]
  },
  {
   "cell_type": "code",
   "execution_count": null,
   "metadata": {},
   "outputs": [],
   "source": [
    "# updating with dates\n",
    "for i in raw.iloc[:,0].dropna().index: \n",
    "    if search_dates(raw.loc[i,0]):\n",
    "        raw.loc[i,1]= search_dates(raw.loc[i,0])[0][1].strftime(\"%Y-%m-%d\")"
   ]
  },
  {
   "cell_type": "code",
   "execution_count": null,
   "metadata": {},
   "outputs": [],
   "source": [
    "raw.columns = ['actual','converted']"
   ]
  },
  {
   "cell_type": "code",
   "execution_count": null,
   "metadata": {},
   "outputs": [],
   "source": [
    "raw.head()"
   ]
  },
  {
   "cell_type": "code",
   "execution_count": null,
   "metadata": {},
   "outputs": [],
   "source": []
  },
  {
   "cell_type": "code",
   "execution_count": null,
   "metadata": {},
   "outputs": [],
   "source": []
  },
  {
   "cell_type": "code",
   "execution_count": 92,
   "metadata": {},
   "outputs": [],
   "source": [
    "def preprocessing(img_str):\n",
    "    newstr = list(set(map(lambda x : x.strip(), img_str.split('\\n'))))\n",
    "    tags = []\n",
    "    for i in newstr:\n",
    "        try:\n",
    "            find_date = search_dates(i) \n",
    "        except:\n",
    "            continue\n",
    "        if find_date:\n",
    "            for j in find_date:\n",
    "                tags.append(j[0])\n",
    "\n",
    "    pattern1 = r\"(\\d{1,4}([.'’\\-/])\\d{1,2}([.'’\\-/])\\d{1,4})\"\n",
    "    pattern2 = r\"(\\d{1,4}([.'’\\-/\\s])[ADFJMNOSadfjmnos]\\w*([.'’\\-/\\s]*)\\d{1,4})\"\n",
    "    pattern3 = r\"([ADFJMNOSadfjmnos]\\w*\\s\\d{1,4}([,'’.\\-/\\s]*)([.'’\\-/\\s])\\d{1,4})\"\n",
    "    pattern4 = r\"[ADFJMNOSadfjmnos]\\w*\\d{1,4}(['’]*)\\d{1,4}\"\n",
    "    pattern5 = r\"(\\d{1,4}([.'’\\-/\\s])\\d{1,4}\"\n",
    "    \n",
    "    date_find = []\n",
    "\n",
    "    for i in tags:\n",
    "        for j in (re.search(regex,i) for regex in [pattern1, pattern2, pattern3, pattern4]):\n",
    "            if j:\n",
    "                s = j.group()\n",
    "                if s.find('.'):\n",
    "                    date_find.append(\"-\".join(s.split('.')))\n",
    "                else:\n",
    "                    date_find.append(s)\n",
    "\n",
    "    date_find = list(set(date_find))\n",
    "\n",
    "    dates = {}\n",
    "    for i in date_find:\n",
    "        try:\n",
    "            dates[i] = search_dates(i)[0][1].strftime(\"%Y-%m-%d\")\n",
    "        except:\n",
    "            continue\n",
    "    print(dates)\n",
    "    if dates:\n",
    "        #print(min(dates.values()))\n",
    "        return min(dates.values())\n",
    "    return None"
   ]
  },
  {
   "cell_type": "code",
   "execution_count": 97,
   "metadata": {},
   "outputs": [
    {
     "ename": "IndexError",
     "evalue": "list index out of range",
     "output_type": "error",
     "traceback": [
      "\u001b[1;31m---------------------------------------------------------------------------\u001b[0m",
      "\u001b[1;31mIndexError\u001b[0m                                Traceback (most recent call last)",
      "\u001b[1;32m<ipython-input-97-9993fa00338f>\u001b[0m in \u001b[0;36m<module>\u001b[1;34m()\u001b[0m\n\u001b[1;32m----> 1\u001b[1;33m \u001b[0mpreprocessing\u001b[0m\u001b[1;33m(\u001b[0m\u001b[0mll\u001b[0m\u001b[1;33m[\u001b[0m\u001b[1;36m4\u001b[0m\u001b[1;33m]\u001b[0m\u001b[1;33m)\u001b[0m\u001b[1;33m\u001b[0m\u001b[0m\n\u001b[0m",
      "\u001b[1;31mIndexError\u001b[0m: list index out of range"
     ]
    }
   ],
   "source": [
    "preprocessing(ll[])"
   ]
  },
  {
   "cell_type": "code",
   "execution_count": null,
   "metadata": {},
   "outputs": [],
   "source": [
    "raw = pd.read_csv('image_data.csv')"
   ]
  },
  {
   "cell_type": "code",
   "execution_count": null,
   "metadata": {},
   "outputs": [],
   "source": [
    "raw['predicted_2'] = None"
   ]
  },
  {
   "cell_type": "code",
   "execution_count": null,
   "metadata": {},
   "outputs": [],
   "source": [
    "raw.head()"
   ]
  },
  {
   "cell_type": "code",
   "execution_count": null,
   "metadata": {},
   "outputs": [],
   "source": [
    "raw.head()"
   ]
  },
  {
   "cell_type": "code",
   "execution_count": null,
   "metadata": {},
   "outputs": [],
   "source": [
    "for i in raw.index:\n",
    "    path = \"images/\" + str(i) + \".jpeg\"\n",
    "    print(i,end=' : ')\n",
    "    date = preprocessing(path)\n",
    "    raw.loc[i,'predicted_2'] = date"
   ]
  },
  {
   "cell_type": "code",
   "execution_count": null,
   "metadata": {},
   "outputs": [],
   "source": []
  },
  {
   "cell_type": "code",
   "execution_count": null,
   "metadata": {},
   "outputs": [],
   "source": [
    "raw.to_csv('image_data.csv')"
   ]
  },
  {
   "cell_type": "code",
   "execution_count": null,
   "metadata": {},
   "outputs": [],
   "source": [
    "from sklearn.metrics import classification_report"
   ]
  },
  {
   "cell_type": "code",
   "execution_count": null,
   "metadata": {},
   "outputs": [],
   "source": [
    "(raw.converted == raw.predicted_2).value_counts()"
   ]
  },
  {
   "cell_type": "code",
   "execution_count": null,
   "metadata": {},
   "outputs": [],
   "source": [
    "(raw.converted == raw.predicted).value_counts()"
   ]
  },
  {
   "cell_type": "markdown",
   "metadata": {},
   "source": [
    "# 35% accuracy on intial attempt"
   ]
  },
  {
   "cell_type": "code",
   "execution_count": 97,
   "metadata": {},
   "outputs": [],
   "source": [
    "def globalpreprocess(path):\n",
    "    \n",
    "    img_str_1 = pt.image_to_string(path, lang='eng')\n",
    "    \n",
    "    gaussian_filter = (5,5)\n",
    "    img = cv2.imread(path) \n",
    "    img = cv2.resize(img, None, fx=2, fy=2, interpolation=cv2.INTER_CUBIC) \n",
    "    img_gray = cv2.cvtColor(img, cv2.COLOR_BGR2GRAY)\n",
    "    img_blur = cv2.GaussianBlur(img_gray, gaussian_filter, 0)\n",
    "    img_str_2 = pt.image_to_string(Image.fromarray(img_blur),lang =\"eng\")\n",
    "    \n",
    "    kernel = np.ones((1, 1), np.uint8)\n",
    "    img_dilate = cv2.dilate(img_gray, kernel, iterations=1)\n",
    "    img_erode = cv2.erode(img_dilate, kernel, iterations=1)\n",
    "    img_gauss = cv2.GaussianBlur(img_erode, gaussian_filter, 0)\n",
    "    img_ad_thres = cv2.adaptiveThreshold(img_gauss, 255, cv2.ADAPTIVE_THRESH_GAUSSIAN_C, cv2.THRESH_BINARY, 31, 2)\n",
    "    img_str_3 = pt.image_to_string(Image.fromarray(img_ad_thres),lang='eng')\n",
    "\n",
    "    ret,th1 = cv2.threshold(img_gauss, 100, 225, cv2.THRESH_BINARY)\n",
    "    img_str_4 = pt.image_to_string(Image.fromarray(th1), lang = 'eng')\n",
    "\n",
    "    return [img_str_1,img_str_2,img_str_3,img_str_4]"
   ]
  },
  {
   "cell_type": "code",
   "execution_count": 249,
   "metadata": {},
   "outputs": [],
   "source": [
    "path = 'images/52.jpeg'\n",
    "ll = globalpreprocess(path)"
   ]
  },
  {
   "cell_type": "code",
   "execution_count": null,
   "metadata": {},
   "outputs": [],
   "source": []
  },
  {
   "cell_type": "code",
   "execution_count": 253,
   "metadata": {
    "scrolled": true
   },
   "outputs": [
    {
     "name": "stdout",
     "output_type": "stream",
     "text": [
      "GENESIS FOODS PLATTER\n",
      "\n",
      "DEVATHAPL ARCH BNGLR\n",
      "\n",
      "GST 2SALBPS9132K12L\n",
      "BILL NO: 3067 DT: 22/05/19 13:59\n",
      "\n",
      "ALCO ONIGN MEX\n",
      "\n",
      "ePL\n",
      "CHOLA BHATUSA\n",
      "\n",
      "TPL 90.00\n",
      "TAWA ALCO PUL AY\n",
      "1PL\n",
      "\n",
      "160.00\n",
      "SUEET LASSI\n",
      "\n",
      "4PL\n",
      "PUK) EIEM\n",
      "\n",
      "TTEm: 5 /Qty. 10\n",
      "AMOUNT\n",
      "\n",
      "S6ST 3 2.50:\n",
      "C6ST 3 2.50. :\n",
      "TOTAL 6ST\n",
      "\n",
      "PLEASE CONSUME FLL PRED\n",
      "FOOD ITEM WITHIN 3 HOURS\n",
      "OF PACKAGE DELIVERY\n"
     ]
    }
   ],
   "source": [
    "print(ll[3])"
   ]
  },
  {
   "cell_type": "code",
   "execution_count": null,
   "metadata": {},
   "outputs": [],
   "source": []
  },
  {
   "cell_type": "code",
   "execution_count": null,
   "metadata": {},
   "outputs": [],
   "source": []
  },
  {
   "cell_type": "code",
   "execution_count": null,
   "metadata": {},
   "outputs": [],
   "source": []
  },
  {
   "cell_type": "code",
   "execution_count": 44,
   "metadata": {},
   "outputs": [],
   "source": [
    "raw = pd.read_csv('image_data.csv')"
   ]
  },
  {
   "cell_type": "code",
   "execution_count": 45,
   "metadata": {},
   "outputs": [
    {
     "data": {
      "text/html": [
       "<div>\n",
       "<style scoped>\n",
       "    .dataframe tbody tr th:only-of-type {\n",
       "        vertical-align: middle;\n",
       "    }\n",
       "\n",
       "    .dataframe tbody tr th {\n",
       "        vertical-align: top;\n",
       "    }\n",
       "\n",
       "    .dataframe thead th {\n",
       "        text-align: right;\n",
       "    }\n",
       "</style>\n",
       "<table border=\"1\" class=\"dataframe\">\n",
       "  <thead>\n",
       "    <tr style=\"text-align: right;\">\n",
       "      <th></th>\n",
       "      <th>Unnamed: 0</th>\n",
       "      <th>actual</th>\n",
       "      <th>converted</th>\n",
       "      <th>predicted</th>\n",
       "    </tr>\n",
       "  </thead>\n",
       "  <tbody>\n",
       "    <tr>\n",
       "      <td>0</td>\n",
       "      <td>1</td>\n",
       "      <td>May 21, 2019</td>\n",
       "      <td>2019-05-21</td>\n",
       "      <td>NaN</td>\n",
       "    </tr>\n",
       "    <tr>\n",
       "      <td>1</td>\n",
       "      <td>2</td>\n",
       "      <td>25-07-19</td>\n",
       "      <td>2019-07-25</td>\n",
       "      <td>2019-07-25</td>\n",
       "    </tr>\n",
       "    <tr>\n",
       "      <td>2</td>\n",
       "      <td>3</td>\n",
       "      <td>Sep 29, 2018</td>\n",
       "      <td>2018-09-29</td>\n",
       "      <td>NaN</td>\n",
       "    </tr>\n",
       "    <tr>\n",
       "      <td>3</td>\n",
       "      <td>4</td>\n",
       "      <td>Oct06' 16</td>\n",
       "      <td>2016-10-06</td>\n",
       "      <td>NaN</td>\n",
       "    </tr>\n",
       "    <tr>\n",
       "      <td>4</td>\n",
       "      <td>5</td>\n",
       "      <td>5/29/2019</td>\n",
       "      <td>2019-05-29</td>\n",
       "      <td>2019-05-29</td>\n",
       "    </tr>\n",
       "  </tbody>\n",
       "</table>\n",
       "</div>"
      ],
      "text/plain": [
       "   Unnamed: 0        actual   converted   predicted\n",
       "0           1  May 21, 2019  2019-05-21         NaN\n",
       "1           2      25-07-19  2019-07-25  2019-07-25\n",
       "2           3  Sep 29, 2018  2018-09-29         NaN\n",
       "3           4     Oct06' 16  2016-10-06         NaN\n",
       "4           5     5/29/2019  2019-05-29  2019-05-29"
      ]
     },
     "execution_count": 45,
     "metadata": {},
     "output_type": "execute_result"
    }
   ],
   "source": [
    "raw.head()"
   ]
  },
  {
   "cell_type": "code",
   "execution_count": 49,
   "metadata": {},
   "outputs": [
    {
     "data": {
      "text/plain": [
       "86"
      ]
     },
     "execution_count": 49,
     "metadata": {},
     "output_type": "execute_result"
    }
   ],
   "source": [
    "raw.actual.notna().sum()"
   ]
  },
  {
   "cell_type": "code",
   "execution_count": 53,
   "metadata": {},
   "outputs": [
    {
     "data": {
      "text/html": [
       "<div>\n",
       "<style scoped>\n",
       "    .dataframe tbody tr th:only-of-type {\n",
       "        vertical-align: middle;\n",
       "    }\n",
       "\n",
       "    .dataframe tbody tr th {\n",
       "        vertical-align: top;\n",
       "    }\n",
       "\n",
       "    .dataframe thead th {\n",
       "        text-align: right;\n",
       "    }\n",
       "</style>\n",
       "<table border=\"1\" class=\"dataframe\">\n",
       "  <thead>\n",
       "    <tr style=\"text-align: right;\">\n",
       "      <th></th>\n",
       "      <th>Unnamed: 0</th>\n",
       "      <th>actual</th>\n",
       "      <th>converted</th>\n",
       "      <th>predicted</th>\n",
       "    </tr>\n",
       "  </thead>\n",
       "  <tbody>\n",
       "    <tr>\n",
       "      <td>0</td>\n",
       "      <td>1</td>\n",
       "      <td>May 21, 2019</td>\n",
       "      <td>2019-05-21</td>\n",
       "      <td>NaN</td>\n",
       "    </tr>\n",
       "    <tr>\n",
       "      <td>1</td>\n",
       "      <td>2</td>\n",
       "      <td>25-07-19</td>\n",
       "      <td>2019-07-25</td>\n",
       "      <td>2019-07-25</td>\n",
       "    </tr>\n",
       "    <tr>\n",
       "      <td>2</td>\n",
       "      <td>3</td>\n",
       "      <td>Sep 29, 2018</td>\n",
       "      <td>2018-09-29</td>\n",
       "      <td>NaN</td>\n",
       "    </tr>\n",
       "    <tr>\n",
       "      <td>3</td>\n",
       "      <td>4</td>\n",
       "      <td>Oct06' 16</td>\n",
       "      <td>2016-10-06</td>\n",
       "      <td>NaN</td>\n",
       "    </tr>\n",
       "    <tr>\n",
       "      <td>4</td>\n",
       "      <td>5</td>\n",
       "      <td>5/29/2019</td>\n",
       "      <td>2019-05-29</td>\n",
       "      <td>2019-05-29</td>\n",
       "    </tr>\n",
       "    <tr>\n",
       "      <td>5</td>\n",
       "      <td>6</td>\n",
       "      <td>03-Jul-19</td>\n",
       "      <td>2019-07-03</td>\n",
       "      <td>2019-07-03</td>\n",
       "    </tr>\n",
       "    <tr>\n",
       "      <td>6</td>\n",
       "      <td>7</td>\n",
       "      <td>NaN</td>\n",
       "      <td>NaN</td>\n",
       "      <td>NaN</td>\n",
       "    </tr>\n",
       "    <tr>\n",
       "      <td>7</td>\n",
       "      <td>8</td>\n",
       "      <td>23-05-19</td>\n",
       "      <td>2019-05-23</td>\n",
       "      <td>NaN</td>\n",
       "    </tr>\n",
       "    <tr>\n",
       "      <td>8</td>\n",
       "      <td>9</td>\n",
       "      <td>07-01-19</td>\n",
       "      <td>2019-07-01</td>\n",
       "      <td>NaN</td>\n",
       "    </tr>\n",
       "    <tr>\n",
       "      <td>9</td>\n",
       "      <td>10</td>\n",
       "      <td>22-05-19</td>\n",
       "      <td>2019-05-22</td>\n",
       "      <td>NaN</td>\n",
       "    </tr>\n",
       "    <tr>\n",
       "      <td>10</td>\n",
       "      <td>11</td>\n",
       "      <td>07/17/2019</td>\n",
       "      <td>2019-07-17</td>\n",
       "      <td>2019-07-17</td>\n",
       "    </tr>\n",
       "    <tr>\n",
       "      <td>11</td>\n",
       "      <td>12</td>\n",
       "      <td>07-02-19</td>\n",
       "      <td>2019-07-02</td>\n",
       "      <td>2019-07-02</td>\n",
       "    </tr>\n",
       "    <tr>\n",
       "      <td>12</td>\n",
       "      <td>13</td>\n",
       "      <td>02-08-15</td>\n",
       "      <td>2015-02-08</td>\n",
       "      <td>NaN</td>\n",
       "    </tr>\n",
       "    <tr>\n",
       "      <td>13</td>\n",
       "      <td>14</td>\n",
       "      <td>22-Jul-19</td>\n",
       "      <td>2019-07-22</td>\n",
       "      <td>NaN</td>\n",
       "    </tr>\n",
       "    <tr>\n",
       "      <td>14</td>\n",
       "      <td>15</td>\n",
       "      <td>07/22/2019</td>\n",
       "      <td>2019-07-22</td>\n",
       "      <td>NaN</td>\n",
       "    </tr>\n",
       "    <tr>\n",
       "      <td>15</td>\n",
       "      <td>16</td>\n",
       "      <td>06-07-19</td>\n",
       "      <td>2019-06-07</td>\n",
       "      <td>NaN</td>\n",
       "    </tr>\n",
       "    <tr>\n",
       "      <td>16</td>\n",
       "      <td>17</td>\n",
       "      <td>5/24/2019</td>\n",
       "      <td>2019-05-24</td>\n",
       "      <td>NaN</td>\n",
       "    </tr>\n",
       "    <tr>\n",
       "      <td>17</td>\n",
       "      <td>18</td>\n",
       "      <td>4/15/16</td>\n",
       "      <td>2016-04-15</td>\n",
       "      <td>NaN</td>\n",
       "    </tr>\n",
       "    <tr>\n",
       "      <td>18</td>\n",
       "      <td>19</td>\n",
       "      <td>20-07-19</td>\n",
       "      <td>2019-07-20</td>\n",
       "      <td>NaN</td>\n",
       "    </tr>\n",
       "    <tr>\n",
       "      <td>19</td>\n",
       "      <td>20</td>\n",
       "      <td>5/20/2019</td>\n",
       "      <td>2019-05-20</td>\n",
       "      <td>NaN</td>\n",
       "    </tr>\n",
       "  </tbody>\n",
       "</table>\n",
       "</div>"
      ],
      "text/plain": [
       "    Unnamed: 0        actual   converted   predicted\n",
       "0            1  May 21, 2019  2019-05-21         NaN\n",
       "1            2      25-07-19  2019-07-25  2019-07-25\n",
       "2            3  Sep 29, 2018  2018-09-29         NaN\n",
       "3            4     Oct06' 16  2016-10-06         NaN\n",
       "4            5     5/29/2019  2019-05-29  2019-05-29\n",
       "5            6     03-Jul-19  2019-07-03  2019-07-03\n",
       "6            7           NaN         NaN         NaN\n",
       "7            8      23-05-19  2019-05-23         NaN\n",
       "8            9      07-01-19  2019-07-01         NaN\n",
       "9           10      22-05-19  2019-05-22         NaN\n",
       "10          11    07/17/2019  2019-07-17  2019-07-17\n",
       "11          12      07-02-19  2019-07-02  2019-07-02\n",
       "12          13      02-08-15  2015-02-08         NaN\n",
       "13          14     22-Jul-19  2019-07-22         NaN\n",
       "14          15    07/22/2019  2019-07-22         NaN\n",
       "15          16      06-07-19  2019-06-07         NaN\n",
       "16          17     5/24/2019  2019-05-24         NaN\n",
       "17          18       4/15/16  2016-04-15         NaN\n",
       "18          19      20-07-19  2019-07-20         NaN\n",
       "19          20     5/20/2019  2019-05-20         NaN"
      ]
     },
     "execution_count": 53,
     "metadata": {},
     "output_type": "execute_result"
    }
   ],
   "source": [
    "raw.head(20)"
   ]
  },
  {
   "cell_type": "code",
   "execution_count": 58,
   "metadata": {},
   "outputs": [
    {
     "name": "stdout",
     "output_type": "stream",
     "text": [
      "0 2019-05-21 00:00:00\n",
      "1 2019-07-25 00:00:00\n",
      "2 2018-09-29 00:00:00\n",
      "3 2016-10-06 00:00:00\n",
      "4 2019-05-29 00:00:00\n",
      "5 2019-07-03 00:00:00\n",
      "6 2019-05-23 00:00:00\n",
      "7 2019-07-01 00:00:00\n",
      "8 2019-05-22 00:00:00\n",
      "9 2019-07-17 00:00:00\n",
      "10 2019-07-02 00:00:00\n",
      "11 2015-02-08 00:00:00\n",
      "12 2019-07-22 00:00:00\n",
      "13 2019-07-22 00:00:00\n",
      "14 2019-06-07 00:00:00\n",
      "15 2019-05-24 00:00:00\n",
      "16 2016-04-15 00:00:00\n",
      "17 2019-07-20 00:00:00\n",
      "18 2019-05-20 00:00:00\n",
      "19 2019-05-29 00:00:00\n",
      "20 2019-05-22 00:00:00\n",
      "21 2019-05-07 00:00:00\n",
      "22 2019-06-18 00:00:00\n",
      "23 2019-06-28 00:00:00\n",
      "24 2019-06-03 00:00:00\n",
      "25 2019-06-20 00:00:00\n",
      "26 2019-04-10 00:00:00\n",
      "27 2019-06-07 00:00:00\n",
      "28 2019-06-28 00:00:00\n",
      "29 2019-04-30 00:00:00\n",
      "30 2019-07-25 00:00:00\n",
      "31 2017-03-10 00:00:00\n",
      "32 2019-06-08 00:00:00\n",
      "33 2019-07-14 00:00:00\n",
      "34 2018-06-30 00:00:00\n",
      "35 2019-06-27 00:00:00\n",
      "36 2019-06-25 00:00:00\n",
      "37 2016-11-24 00:00:00\n",
      "38 2019-06-19 00:00:00\n",
      "39 2019-06-20 00:00:00\n",
      "40 2019-05-19 00:00:00\n",
      "41 2019-05-18 00:00:00\n",
      "42 2014-05-22 00:00:00\n",
      "43 2017-10-01 00:00:00\n",
      "44 2015-08-22 00:00:00\n",
      "45 2019-08-09 00:00:00\n",
      "46 2019-06-27 00:00:00\n",
      "47 2019-05-22 00:00:00\n",
      "48 2019-06-01 00:00:00\n",
      "49 2019-06-09 00:00:00\n",
      "50 2019-07-06 00:00:00\n",
      "51 2018-10-20 00:00:00\n",
      "52 2018-02-17 00:00:00\n",
      "53 2019-06-24 00:00:00\n",
      "54 2019-06-06 00:00:00\n",
      "55 2019-06-01 00:00:00\n",
      "56 2019-04-07 00:00:00\n",
      "57 2018-08-17 00:00:00\n",
      "58 2019-06-01 00:00:00\n",
      "59 2019-06-26 00:00:00\n",
      "60 2019-06-14 00:00:00\n",
      "61 2019-06-25 00:00:00\n",
      "62 2019-06-19 00:00:00\n",
      "63 2019-11-07 00:00:00\n",
      "64 2019-04-08 00:00:00\n",
      "65 2019-07-01 00:00:00\n",
      "66 2019-06-17 00:00:00\n",
      "67 2019-06-29 00:00:00\n",
      "68 2019-05-24 00:00:00\n",
      "69 2019-03-02 00:00:00\n",
      "70 2018-03-18 00:00:00\n",
      "71 2019-07-24 00:00:00\n",
      "72 2016-05-26 00:00:00\n",
      "73 2019-06-29 00:00:00\n",
      "74 2019-05-17 00:00:00\n",
      "75 2019-07-01 00:00:00\n",
      "76 2019-06-15 00:00:00\n",
      "77 2019-06-13 00:00:00\n",
      "78 2019-08-30 00:00:00\n",
      "79 2019-06-04 00:00:00\n",
      "80 2015-04-25 00:00:00\n",
      "81 2019-07-02 00:00:00\n",
      "82 2019-06-15 00:00:00\n",
      "83 2019-07-02 00:00:00\n",
      "84 2017-12-02 00:00:00\n",
      "85 2019-07-18 00:00:00\n"
     ]
    }
   ],
   "source": [
    "for j,i in enumerate(raw.actual[raw.actual.notnull()]):\n",
    "    print(j,parse(i))"
   ]
  },
  {
   "cell_type": "code",
   "execution_count": null,
   "metadata": {},
   "outputs": [],
   "source": []
  }
 ],
 "metadata": {
  "kernelspec": {
   "display_name": "Python 3",
   "language": "python",
   "name": "python3"
  },
  "language_info": {
   "codemirror_mode": {
    "name": "ipython",
    "version": 3
   },
   "file_extension": ".py",
   "mimetype": "text/x-python",
   "name": "python",
   "nbconvert_exporter": "python",
   "pygments_lexer": "ipython3",
   "version": "3.6.5"
  }
 },
 "nbformat": 4,
 "nbformat_minor": 2
}
