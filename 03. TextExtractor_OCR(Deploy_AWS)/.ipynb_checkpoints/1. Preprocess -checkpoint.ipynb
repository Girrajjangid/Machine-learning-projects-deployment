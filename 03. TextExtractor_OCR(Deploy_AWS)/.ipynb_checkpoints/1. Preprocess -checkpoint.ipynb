{
 "cells": [
  {
   "cell_type": "markdown",
   "metadata": {},
   "source": [
    "Build a RESTful service that extracts expense date from a receipt. Please feel free to use any language and framework of your choice. Deploy the service on any cloud platform like Heroku/AWS/GCP. The service should contain one API which has the following contract:\n",
    "\n",
    "Request:\n",
    "POST /extract_date\n",
    "\n",
    "Payload:\n",
    "{“base_64_image_content”: <base_64_image_content>}\n",
    "\n",
    "Response:\n",
    "If date is present:\n",
    "{“date”: “YYYY-MM-DD”}\n",
    "If date is not present:\n",
    "{“date”: null}\n",
    "\n",
    "Calculate the accuracy of the service against the sample receipts dataset given. This can be calculated as follows:\n",
    "\n",
    "accuracy = (number of receipts for which the service extracted correct date/total receipts)*100%\n"
   ]
  },
  {
   "cell_type": "code",
   "execution_count": 24,
   "metadata": {},
   "outputs": [],
   "source": [
    "from PIL import Image\n",
    "import pytesseract as pt\n",
    "import glob\n",
    "import re\n",
    "from dateutil.parser import parse\n",
    "import dateparser\n",
    "from dateparser.search import search_dates\n",
    "from datefinder import find_dates\n",
    "pt.pytesseract.tesseract_cmd = 'C:/Program Files/Tesseract-OCR/tesseract.exe'\n",
    "import cv2\n",
    "import numpy as np\n",
    "import pandas as pd\n",
    "import imutils.perspective as ip"
   ]
  },
  {
   "cell_type": "code",
   "execution_count": 80,
   "metadata": {},
   "outputs": [],
   "source": [
    "#img_paths = glob.glob('images/*')\n",
    "# '2b931f74.jpeg'\n",
    "img_str = pt.image_to_string('images/14.jpeg')"
   ]
  },
  {
   "cell_type": "code",
   "execution_count": 81,
   "metadata": {
    "scrolled": true
   },
   "outputs": [
    {
     "name": "stdout",
     "output_type": "stream",
     "text": [
      "nels -URA PLAZA\n",
      "FROW 2.50 10 KH 220.06\n",
      "\n",
      "ee FOR TOLL FEE\n",
      "\n",
      "TRH 16:20109815880 SCHERE : SINGLE\n",
      "UEH TYPE: CAR/JEEP/UVAN TOLL FARE:Rs.60\n",
      "\n",
      "REG HO: 1620 USER ID:RAKE1117\n",
      "LAWE 0:07 DATE:22/Ju1/2019 06:40\n",
      "% Exetsericy Ho. +91-9309366001/1422231999 x\n"
     ]
    }
   ],
   "source": [
    "print(img_str)"
   ]
  },
  {
   "cell_type": "code",
   "execution_count": 99,
   "metadata": {},
   "outputs": [],
   "source": [
    "img_str = ll[3]"
   ]
  },
  {
   "cell_type": "code",
   "execution_count": 107,
   "metadata": {},
   "outputs": [],
   "source": []
  },
  {
   "cell_type": "code",
   "execution_count": 128,
   "metadata": {},
   "outputs": [],
   "source": [
    "def spread(arg):\n",
    "    ret = []\n",
    "    for i in arg:\n",
    "        if isinstance(i, list):\n",
    "            ret.extend(i)\n",
    "        else:\n",
    "            ret.append(i)\n",
    "    return ret\n",
    "\n",
    "def deep_flatten(lst):\n",
    "    result = []\n",
    "    result.extend(spread(list(map(lambda x: deep_flatten(x) if type(x) == list else x, lst))))\n",
    "    return result"
   ]
  },
  {
   "cell_type": "code",
   "execution_count": 133,
   "metadata": {},
   "outputs": [],
   "source": [
    "z = [list(set(map(lambda x: x.strip(),img.split('\\n')))) for img in ll]\n",
    "newstr = set(deep_flatten(z))"
   ]
  },
  {
   "cell_type": "code",
   "execution_count": 148,
   "metadata": {
    "scrolled": true
   },
   "outputs": [
    {
     "data": {
      "text/plain": [
       "{'',\n",
       " '$3.00',\n",
       " '$49.50',\n",
       " '$5.00',\n",
       " '$7.00',\n",
       " '$8.00',\n",
       " '% av: eb yt 3 at',\n",
       " '(909) 596-1564',\n",
       " '(909) SOG 1564',\n",
       " '- Bacon (2) Slices',\n",
       " '- Medium',\n",
       " '- Medium Rare',\n",
       " '- NO Ketchup',\n",
       " '- No bun',\n",
       " '- Sauce On Side',\n",
       " '-~NO Ketchup',\n",
       " '2124 BONITA AVENUE',\n",
       " '22a ‘BONITA AVENUE toe',\n",
       " '3',\n",
       " '4 oe Me',\n",
       " ': : : iS on (2) Sheet 4',\n",
       " ': ee idsupre Rat ae :',\n",
       " 'BeAr ——',\n",
       " 'Beef Burger $10.00',\n",
       " 'Beek is BUSS yeahs &',\n",
       " 'Cc',\n",
       " 'Cr',\n",
       " 'Dine In',\n",
       " 'Fie NE en',\n",
       " 'FourthStreetMill',\n",
       " 'FourthStreetMill eceip',\n",
       " 'FourthStreetMill eee',\n",
       " 'Item(s)',\n",
       " 'Kids Cheeseburger',\n",
       " 'Kids Cheeseburger $7.00',\n",
       " 'Kids Cheeseburger $7.00.',\n",
       " 'Kids Fries',\n",
       " 'Kids Fries $3.00',\n",
       " 'Kids Gilled Cheese',\n",
       " 'Kids Grilled Cheese $5.00',\n",
       " 'LA VERNE, CA 91750',\n",
       " 'Lamb Burger $13.00',\n",
       " 'Lette',\n",
       " 'Lg',\n",
       " 'Medium',\n",
       " 'NO Bread',\n",
       " 'NO Goat Cheese',\n",
       " 'N\\\\A) Godt Cheese',\n",
       " 'Paneb Burges $13 00',\n",
       " 'Receipt',\n",
       " 'Receipt: 4533 5:38 PM',\n",
       " 'Receipt: 4J 33 5:38 PM',\n",
       " 'Sales Tax (Incl. 9.5%) $4.70',\n",
       " 'Sales Tax (Incl. 9.5%) $470',\n",
       " 'Sauce On Side',\n",
       " 'Se',\n",
       " 'Sepa pat Cail dy',\n",
       " 'Server:',\n",
       " 'Server: Chris D Sep 29, 2018',\n",
       " 'Server: Chris D. Sep 29, 2018',\n",
       " 'Server: §',\n",
       " 'Sides $3.5',\n",
       " 'Sides $3.50',\n",
       " 'Sub sourdough',\n",
       " 'Subtotal',\n",
       " 'Subtotal $49.50',\n",
       " 'Sweet Potato Fnes',\n",
       " 'Sweet Potato Fries $8.00',\n",
       " 'Table PS',\n",
       " 'Table: P5',\n",
       " 'Table: PS',\n",
       " 'Total $54.20',\n",
       " 'a SHS REM eed fle',\n",
       " \"aa pe yg hte Tae iE '\",\n",
       " 'ae LL',\n",
       " 'aeeneetpetieenteenimnesca',\n",
       " 'all',\n",
       " 'an es Ue',\n",
       " 'ee',\n",
       " 'ee ee ee',\n",
       " 'eee',\n",
       " 'ere pla oo ) UB RA',\n",
       " 'fe oh mae a Ne a Spa he 3',\n",
       " 'fetal $54.20',\n",
       " 'fi mus',\n",
       " 'fs ee ne:',\n",
       " 'iN',\n",
       " 'lotal',\n",
       " 'mb See: vos) iy) a ah Fie',\n",
       " 'mt Bom A AMER II',\n",
       " 'neteeentEeEEeneene',\n",
       " \"qe er, con't} Sik }\",\n",
       " 'ras:',\n",
       " 're eo?',\n",
       " 'te eng aad zie e hy',\n",
       " 'tem(s) #304 i ee Fads: 3 nay',\n",
       " 'wm,',\n",
       " 'wpe URE i aR aa Slee Daye. 2',\n",
       " 'x I,',\n",
       " '~- Medium Rare',\n",
       " '¥ Kids Fries 4',\n",
       " '¥ th is',\n",
       " '¥Sides have ys in',\n",
       " '‘',\n",
       " '‘ (Move Me ps ERS 1s. f: :',\n",
       " '“UA VERNE, ‘CA 91750; fhe ii',\n",
       " '“je Pes UR pie ‘e en ae i \"'}"
      ]
     },
     "execution_count": 148,
     "metadata": {},
     "output_type": "execute_result"
    }
   ],
   "source": [
    "# This result is the combination fo 4 inputs different images\n",
    "newstr"
   ]
  },
  {
   "cell_type": "code",
   "execution_count": 82,
   "metadata": {},
   "outputs": [],
   "source": [
    "newstr = list(set(map(lambda x : x.strip(), img_str.split('\\n'))))"
   ]
  },
  {
   "cell_type": "code",
   "execution_count": 83,
   "metadata": {
    "collapsed": true
   },
   "outputs": [
    {
     "data": {
      "text/plain": [
       "['',\n",
       " 'FROW 2.50 10 KH 220.06',\n",
       " '% Exetsericy Ho. +91-9309366001/1422231999 x',\n",
       " 'LAWE 0:07 DATE:22/Ju1/2019 06:40',\n",
       " 'nels -URA PLAZA',\n",
       " 'TRH 16:20109815880 SCHERE : SINGLE',\n",
       " 'UEH TYPE: CAR/JEEP/UVAN TOLL FARE:Rs.60',\n",
       " 'ee FOR TOLL FEE',\n",
       " 'REG HO: 1620 USER ID:RAKE1117']"
      ]
     },
     "execution_count": 83,
     "metadata": {},
     "output_type": "execute_result"
    }
   ],
   "source": [
    "newstr"
   ]
  },
  {
   "cell_type": "code",
   "execution_count": 6,
   "metadata": {},
   "outputs": [
    {
     "data": {
      "text/plain": [
       "[('16:34:06', datetime.datetime(2019, 11, 24, 16, 34, 6))]"
      ]
     },
     "execution_count": 6,
     "metadata": {},
     "output_type": "execute_result"
    }
   ],
   "source": [
    "# Raise this issue on Github\n",
    "search_dates(\"In-Time:2019-07-04 16:34:06\")"
   ]
  },
  {
   "cell_type": "code",
   "execution_count": 23,
   "metadata": {},
   "outputs": [],
   "source": [
    "#### Dont use tags now"
   ]
  },
  {
   "cell_type": "code",
   "execution_count": 84,
   "metadata": {},
   "outputs": [],
   "source": [
    "tags = []\n",
    "for i in newstr:\n",
    "    try:\n",
    "        find_date = search_dates(i) \n",
    "    except:\n",
    "        continue\n",
    "    if find_date:\n",
    "        for j in find_date:\n",
    "            tags.append(j[0])"
   ]
  },
  {
   "cell_type": "code",
   "execution_count": 85,
   "metadata": {},
   "outputs": [
    {
     "data": {
      "text/plain": [
       "['50 10', '220', '0:07', '06:40', 'FEE', '1620']"
      ]
     },
     "execution_count": 85,
     "metadata": {},
     "output_type": "execute_result"
    }
   ],
   "source": [
    "tags"
   ]
  },
  {
   "cell_type": "code",
   "execution_count": 130,
   "metadata": {},
   "outputs": [],
   "source": [
    "pattern1 = r\"(\\d{1,4}([.'’\\-/])\\d{1,2}([.'’\\-/])\\d{1,4})\"\n",
    "pattern2 = r\"(\\d{1,4}([.'’\\-/\\s])[ADFJMNOSadfjmnos]\\w*([.'’\\-/\\s]*)\\d{1,4})\"\n",
    "pattern3 = r\"([ADFJMNOSadfjmnos]\\w*\\s\\d{1,4}([,'’.\\-/\\s]*)([.'’\\-/\\s])\\d{1,4})\"\n",
    "pattern4 = r\"[ADFJMNOSadfjmnos]\\w*\\d{1,4}(['’]*)\\d{1,4}\"\n",
    "pattern5 = r\"(\\d{1,4}([.'’\\-/\\s])\\d{1,4}\""
   ]
  },
  {
   "cell_type": "code",
   "execution_count": 137,
   "metadata": {},
   "outputs": [],
   "source": [
    "date_find = []"
   ]
  },
  {
   "cell_type": "code",
   "execution_count": 138,
   "metadata": {},
   "outputs": [
    {
     "name": "stdout",
     "output_type": "stream",
     "text": [
      "string:  Receipt: 4J 33 5:38 PM  sequence:  J 33 5\n",
      "string:  Server: Chris D Sep 29, 2018  sequence:  Sep 29, 2018\n",
      "string:  Server: Chris D. Sep 29, 2018  sequence:  Sep 29, 2018\n"
     ]
    }
   ],
   "source": [
    "for i in newstr:\n",
    "    for j in (re.search(regex,i) for regex in [pattern1, pattern2, pattern3, pattern4]):\n",
    "        if j:\n",
    "            s = j.group()\n",
    "            \n",
    "            if s.find('.'):\n",
    "                date_find.append(\"-\".join(s.split('.')))\n",
    "            else:\n",
    "                date_find.append(s)\n",
    "            print('string: ',i,' sequence: ',s)"
   ]
  },
  {
   "cell_type": "code",
   "execution_count": 139,
   "metadata": {},
   "outputs": [
    {
     "data": {
      "text/plain": [
       "['J 33 5', 'Sep 29, 2018', 'Sep 29, 2018']"
      ]
     },
     "execution_count": 139,
     "metadata": {},
     "output_type": "execute_result"
    }
   ],
   "source": [
    "date_find"
   ]
  },
  {
   "cell_type": "code",
   "execution_count": 140,
   "metadata": {},
   "outputs": [],
   "source": [
    "date_find = list(set(date_find))"
   ]
  },
  {
   "cell_type": "code",
   "execution_count": 141,
   "metadata": {},
   "outputs": [
    {
     "data": {
      "text/plain": [
       "['J 33 5', 'Sep 29, 2018']"
      ]
     },
     "execution_count": 141,
     "metadata": {},
     "output_type": "execute_result"
    }
   ],
   "source": [
    "date_find"
   ]
  },
  {
   "cell_type": "code",
   "execution_count": 142,
   "metadata": {},
   "outputs": [],
   "source": [
    "dates = []"
   ]
  },
  {
   "cell_type": "code",
   "execution_count": 144,
   "metadata": {},
   "outputs": [
    {
     "name": "stdout",
     "output_type": "stream",
     "text": [
      "J 33 5  ::  2018-09-29\n",
      "Sep 29, 2018  ::  2018-09-29\n"
     ]
    }
   ],
   "source": [
    "for i in date_find:\n",
    "    try:\n",
    "        i = i.replace(\"’\",\"'\")\n",
    "        i = i.replace(\"’’\",\"'\")\n",
    "        i = i.replace('\"',\"'\")\n",
    "            \n",
    "        print(i,\" :: \",parse(s).strftime(\"%Y-%m-%d\"))\n",
    "        dates.append(parse(s).strftime(\"%Y-%m-%d\"))        \n",
    "    except:\n",
    "        continue"
   ]
  },
  {
   "cell_type": "code",
   "execution_count": 113,
   "metadata": {},
   "outputs": [
    {
     "data": {
      "text/plain": [
       "['0718-03-18', '2018-03-18']"
      ]
     },
     "execution_count": 113,
     "metadata": {},
     "output_type": "execute_result"
    }
   ],
   "source": [
    "dates"
   ]
  },
  {
   "cell_type": "code",
   "execution_count": 114,
   "metadata": {},
   "outputs": [],
   "source": [
    "dates = []"
   ]
  },
  {
   "cell_type": "code",
   "execution_count": 115,
   "metadata": {},
   "outputs": [
    {
     "name": "stdout",
     "output_type": "stream",
     "text": [
      "Food 22 -00  ::  2000-11-22\n",
      "ax 5-39  ::  2039-05-25\n",
      "Ossobuco 28 -00  ::  2000-11-28\n",
      "1 ast 2  ::  2019-11-18\n",
      "oke 2-50  ::  2050-02-25\n",
      "Mar18’18  ::  2018-03-18\n",
      "Food 22-00  ::  2000-11-22\n",
      "ab 10-00  ::  2000-04-10\n",
      "Ossobuco 28-00  ::  2000-11-28\n"
     ]
    }
   ],
   "source": [
    "for i in date_find:\n",
    "    try:\n",
    "        print(i ,' :: ', search_dates(i)[0][1].strftime(\"%Y-%m-%d\"))\n",
    "        dates.append(search_dates(i)[0][1].strftime(\"%Y-%m-%d\"))\n",
    "    except:\n",
    "        continue\n"
   ]
  },
  {
   "cell_type": "code",
   "execution_count": 220,
   "metadata": {},
   "outputs": [
    {
     "data": {
      "text/plain": [
       "{'1766-11-24',\n",
       " '2000-05-24',\n",
       " '2019-04-06',\n",
       " '2019-05-29',\n",
       " '2019-06-28',\n",
       " '2019-07-02',\n",
       " '2019-07-19',\n",
       " '2019-08-24',\n",
       " '2019-11-24',\n",
       " '2019-12-06',\n",
       " '2022-02-04',\n",
       " '2038-05-24',\n",
       " '2039-01-24',\n",
       " '2045-06-24'}"
      ]
     },
     "execution_count": 220,
     "metadata": {},
     "output_type": "execute_result"
    }
   ],
   "source": [
    "dates = set(dates)\n",
    "dates"
   ]
  },
  {
   "cell_type": "code",
   "execution_count": 221,
   "metadata": {},
   "outputs": [
    {
     "data": {
      "text/plain": [
       "['2019-12-06',\n",
       " '2019-07-02',\n",
       " '2019-06-28',\n",
       " '2019-11-24',\n",
       " '2019-05-29',\n",
       " '2019-07-19',\n",
       " '2019-04-06',\n",
       " '2019-08-24']"
      ]
     },
     "execution_count": 221,
     "metadata": {},
     "output_type": "execute_result"
    }
   ],
   "source": [
    "new_dates = []\n",
    "for i in dates:\n",
    "    if 2000 < int(i[:4]) < 2021:\n",
    "        new_dates.append(i)\n",
    "new_dates"
   ]
  },
  {
   "cell_type": "code",
   "execution_count": 126,
   "metadata": {},
   "outputs": [
    {
     "name": "stdout",
     "output_type": "stream",
     "text": [
      "0220-06-24\n"
     ]
    }
   ],
   "source": [
    "if dates:\n",
    "    print(min(dates))"
   ]
  },
  {
   "cell_type": "code",
   "execution_count": 127,
   "metadata": {},
   "outputs": [],
   "source": [
    "import datetime"
   ]
  },
  {
   "cell_type": "code",
   "execution_count": 128,
   "metadata": {},
   "outputs": [
    {
     "data": {
      "text/plain": [
       "datetime.datetime(220, 6, 24, 0, 0)"
      ]
     },
     "execution_count": 128,
     "metadata": {},
     "output_type": "execute_result"
    }
   ],
   "source": [
    "datetime.datetime.strptime(\"0220-06-24\", \"%Y-%m-%d\")"
   ]
  },
  {
   "cell_type": "code",
   "execution_count": 152,
   "metadata": {},
   "outputs": [],
   "source": [
    "def validate(date_text):\n",
    "    try:\n",
    "        if date_text != datetime.datetime.strptime(date_text, \"%Y-%m-%d\").strftime('%Y-%m-%d'):\n",
    "            raise ValueError\n",
    "        return True\n",
    "    except ValueError:\n",
    "        return False"
   ]
  },
  {
   "cell_type": "code",
   "execution_count": 156,
   "metadata": {},
   "outputs": [
    {
     "data": {
      "text/plain": [
       "True"
      ]
     },
     "execution_count": 156,
     "metadata": {},
     "output_type": "execute_result"
    }
   ],
   "source": [
    "validate(\"0220-06-24\")"
   ]
  },
  {
   "cell_type": "code",
   "execution_count": null,
   "metadata": {},
   "outputs": [],
   "source": [
    "import pandas as pd"
   ]
  },
  {
   "cell_type": "code",
   "execution_count": null,
   "metadata": {},
   "outputs": [],
   "source": [
    "raw = pd.read_csv('image_data.csv',header = None)\n",
    "raw.index = pd.RangeIndex(1,101,1)"
   ]
  },
  {
   "cell_type": "code",
   "execution_count": null,
   "metadata": {},
   "outputs": [],
   "source": [
    "raw.isna().sum()"
   ]
  },
  {
   "cell_type": "code",
   "execution_count": null,
   "metadata": {},
   "outputs": [],
   "source": [
    "raw.head()"
   ]
  },
  {
   "cell_type": "code",
   "execution_count": null,
   "metadata": {},
   "outputs": [],
   "source": [
    "# updating with dates\n",
    "for i in raw.iloc[:,0].dropna().index: \n",
    "    if search_dates(raw.loc[i,0]):\n",
    "        raw.loc[i,1]= search_dates(raw.loc[i,0])[0][1].strftime(\"%Y-%m-%d\")"
   ]
  },
  {
   "cell_type": "code",
   "execution_count": null,
   "metadata": {},
   "outputs": [],
   "source": [
    "raw.columns = ['actual','converted']"
   ]
  },
  {
   "cell_type": "code",
   "execution_count": null,
   "metadata": {},
   "outputs": [],
   "source": [
    "raw.head()"
   ]
  },
  {
   "cell_type": "code",
   "execution_count": null,
   "metadata": {},
   "outputs": [],
   "source": []
  },
  {
   "cell_type": "code",
   "execution_count": null,
   "metadata": {},
   "outputs": [],
   "source": []
  },
  {
   "cell_type": "code",
   "execution_count": 92,
   "metadata": {},
   "outputs": [],
   "source": [
    "def preprocessing(img_str):\n",
    "    newstr = list(set(map(lambda x : x.strip(), img_str.split('\\n'))))\n",
    "    tags = []\n",
    "    for i in newstr:\n",
    "        try:\n",
    "            find_date = search_dates(i) \n",
    "        except:\n",
    "            continue\n",
    "        if find_date:\n",
    "            for j in find_date:\n",
    "                tags.append(j[0])\n",
    "\n",
    "    pattern1 = r\"(\\d{1,4}([.'’\\-/])\\d{1,2}([.'’\\-/])\\d{1,4})\"\n",
    "    pattern2 = r\"(\\d{1,4}([.'’\\-/\\s])[ADFJMNOSadfjmnos]\\w*([.'’\\-/\\s]*)\\d{1,4})\"\n",
    "    pattern3 = r\"([ADFJMNOSadfjmnos]\\w*\\s\\d{1,4}([,'’.\\-/\\s]*)([.'’\\-/\\s])\\d{1,4})\"\n",
    "    pattern4 = r\"[ADFJMNOSadfjmnos]\\w*\\d{1,4}(['’]*)\\d{1,4}\"\n",
    "    pattern5 = r\"(\\d{1,4}([.'’\\-/\\s])\\d{1,4}\"\n",
    "    \n",
    "    date_find = []\n",
    "\n",
    "    for i in tags:\n",
    "        for j in (re.search(regex,i) for regex in [pattern1, pattern2, pattern3, pattern4]):\n",
    "            if j:\n",
    "                s = j.group()\n",
    "                if s.find('.'):\n",
    "                    date_find.append(\"-\".join(s.split('.')))\n",
    "                else:\n",
    "                    date_find.append(s)\n",
    "\n",
    "    date_find = list(set(date_find))\n",
    "\n",
    "    dates = {}\n",
    "    for i in date_find:\n",
    "        try:\n",
    "            dates[i] = search_dates(i)[0][1].strftime(\"%Y-%m-%d\")\n",
    "        except:\n",
    "            continue\n",
    "    print(dates)\n",
    "    if dates:\n",
    "        #print(min(dates.values()))\n",
    "        return min(dates.values())\n",
    "    return None"
   ]
  },
  {
   "cell_type": "code",
   "execution_count": 97,
   "metadata": {},
   "outputs": [
    {
     "ename": "IndexError",
     "evalue": "list index out of range",
     "output_type": "error",
     "traceback": [
      "\u001b[1;31m---------------------------------------------------------------------------\u001b[0m",
      "\u001b[1;31mIndexError\u001b[0m                                Traceback (most recent call last)",
      "\u001b[1;32m<ipython-input-97-9993fa00338f>\u001b[0m in \u001b[0;36m<module>\u001b[1;34m()\u001b[0m\n\u001b[1;32m----> 1\u001b[1;33m \u001b[0mpreprocessing\u001b[0m\u001b[1;33m(\u001b[0m\u001b[0mll\u001b[0m\u001b[1;33m[\u001b[0m\u001b[1;36m4\u001b[0m\u001b[1;33m]\u001b[0m\u001b[1;33m)\u001b[0m\u001b[1;33m\u001b[0m\u001b[0m\n\u001b[0m",
      "\u001b[1;31mIndexError\u001b[0m: list index out of range"
     ]
    }
   ],
   "source": [
    "preprocessing(ll[])"
   ]
  },
  {
   "cell_type": "code",
   "execution_count": null,
   "metadata": {},
   "outputs": [],
   "source": [
    "raw = pd.read_csv('image_data.csv')"
   ]
  },
  {
   "cell_type": "code",
   "execution_count": null,
   "metadata": {},
   "outputs": [],
   "source": [
    "raw['predicted_2'] = None"
   ]
  },
  {
   "cell_type": "code",
   "execution_count": null,
   "metadata": {},
   "outputs": [],
   "source": [
    "raw.head()"
   ]
  },
  {
   "cell_type": "code",
   "execution_count": null,
   "metadata": {},
   "outputs": [],
   "source": [
    "raw.head()"
   ]
  },
  {
   "cell_type": "code",
   "execution_count": null,
   "metadata": {},
   "outputs": [],
   "source": [
    "for i in raw.index:\n",
    "    path = \"images/\" + str(i) + \".jpeg\"\n",
    "    print(i,end=' : ')\n",
    "    date = preprocessing(path)\n",
    "    raw.loc[i,'predicted_2'] = date"
   ]
  },
  {
   "cell_type": "code",
   "execution_count": null,
   "metadata": {},
   "outputs": [],
   "source": []
  },
  {
   "cell_type": "code",
   "execution_count": null,
   "metadata": {},
   "outputs": [],
   "source": [
    "raw.to_csv('image_data.csv')"
   ]
  },
  {
   "cell_type": "code",
   "execution_count": null,
   "metadata": {},
   "outputs": [],
   "source": [
    "from sklearn.metrics import classification_report"
   ]
  },
  {
   "cell_type": "code",
   "execution_count": null,
   "metadata": {},
   "outputs": [],
   "source": [
    "(raw.converted == raw.predicted_2).value_counts()"
   ]
  },
  {
   "cell_type": "code",
   "execution_count": null,
   "metadata": {},
   "outputs": [],
   "source": [
    "(raw.converted == raw.predicted).value_counts()"
   ]
  },
  {
   "cell_type": "markdown",
   "metadata": {},
   "source": [
    "# 35% accuracy on intial attempt"
   ]
  },
  {
   "cell_type": "code",
   "execution_count": 145,
   "metadata": {},
   "outputs": [],
   "source": [
    "def globalpreprocess(path):\n",
    "    \n",
    "    img_str_1 = pt.image_to_string(path, lang='eng')\n",
    "    \n",
    "    gaussian_filter = (5,5)\n",
    "    img = cv2.imread(path) \n",
    "    img = cv2.resize(img, None, fx = 3, fy = 3, interpolation=cv2.INTER_CUBIC) \n",
    "    img_gray = cv2.cvtColor(img, cv2.COLOR_BGR2GRAY)\n",
    "    img_blur = cv2.GaussianBlur(img_gray, gaussian_filter, 0)\n",
    "    img_str_2 = pt.image_to_string(Image.fromarray(img_blur),lang =\"eng\")\n",
    "    \n",
    "    img_ad_thres = cv2.adaptiveThreshold(img_blur, 255, cv2.ADAPTIVE_THRESH_GAUSSIAN_C, cv2.THRESH_BINARY, 31, 2)\n",
    "    img_str_3 = pt.image_to_string(Image.fromarray(img_ad_thres),lang='eng')\n",
    "\n",
    "    ret,th1 = cv2.threshold(img_blur, 100, 225, cv2.THRESH_BINARY)\n",
    "    img_str_4 = pt.image_to_string(Image.fromarray(th1), lang = 'eng')\n",
    "\n",
    "    return [img_str_1,img_str_2,img_str_3,img_str_4]"
   ]
  },
  {
   "cell_type": "code",
   "execution_count": 146,
   "metadata": {},
   "outputs": [],
   "source": [
    "path = 'images/3.jpeg'\n",
    "ll = globalpreprocess(path)"
   ]
  },
  {
   "cell_type": "code",
   "execution_count": 147,
   "metadata": {},
   "outputs": [
    {
     "name": "stdout",
     "output_type": "stream",
     "text": [
      "Server:\n",
      "\n",
      "Receipt\n",
      "FourthStreetMill eee\n",
      "\n",
      "2124 BONITA AVENUE\n",
      "LA VERNE, CA 91750\n",
      "(909) 596-1564\n",
      "\n",
      "   \n",
      "  \n",
      "  \n",
      "  \n",
      "  \n",
      "  \n",
      "  \n",
      "   \n",
      "   \n",
      "  \n",
      "  \n",
      " \n",
      "  \n",
      "\n",
      "Dine In\n",
      "Server: Chris D. Sep 29, 2018\n",
      "Receipt: 4533 5:38 PM\n",
      "Table: PS\n",
      "all\n",
      "Item(s)\n",
      "Lamb Burger $13.00\n",
      "NO Goat Cheese\n",
      "NO Bread\n",
      "- Medium\n",
      "Sauce On Side\n",
      "Kids Grilled Cheese $5.00\n",
      "Kids Fries $3.00\n",
      "Sweet Potato Fries $8.00\n",
      "Kids Cheeseburger $7.00.\n",
      "- NO Ketchup\n",
      "- No bun\n",
      "Sub sourdough\n",
      "Beef Burger $10.00\n",
      "~- Medium Rare\n",
      "Sides $3.50\n",
      "\n",
      "- Bacon (2) Slices\n",
      "\n",
      "ee ee ee\n",
      "\n",
      "Subtotal\n",
      "\n",
      "$49.50\n",
      "Sales Tax (Incl. 9.5%) $4.70\n",
      "Total $54.20\n",
      "\n",
      "aeeneetpetieenteenimnesca\n"
     ]
    }
   ],
   "source": [
    "print(ll[0])"
   ]
  },
  {
   "cell_type": "code",
   "execution_count": 85,
   "metadata": {
    "collapsed": true
   },
   "outputs": [
    {
     "name": "stdout",
     "output_type": "stream",
     "text": [
      ". san Grill\n",
      "Niek Se yineola BIVd\n",
      "Mineola NY 11501\n",
      "516-747 2545 nat\n",
      "www nickstuscangr 111 .COll $20\n",
      "Minimum Credit/Debit paymen\n",
      "\n",
      "907 Victor V\n",
      "\n",
      "   \n",
      "\n",
      "Tb] 12/1 ast 2\n",
      "Mar18’18 10:54AM\n",
      "Bar\n",
      "FUSSILLI SP\n",
      "1 Open Food 22.00\n",
      "1 Ossobuco 28.00\n",
      "1 Diet Coke 2.50\n",
      "1G 14 Hands Cab 10.00\n",
      "Subtotal 62.50\n",
      "Tax 5.39\n",
      "Total 67.89\n",
      "\n",
      "Minimum Credit/Debit Payment $20\n",
      "Thank you for joining u\n",
      "\n",
      "d\n",
      "S toda\n",
      "\n",
      "mm LOU\n"
     ]
    }
   ],
   "source": []
  },
  {
   "cell_type": "code",
   "execution_count": null,
   "metadata": {},
   "outputs": [],
   "source": []
  },
  {
   "cell_type": "code",
   "execution_count": null,
   "metadata": {},
   "outputs": [],
   "source": []
  },
  {
   "cell_type": "code",
   "execution_count": null,
   "metadata": {},
   "outputs": [],
   "source": []
  },
  {
   "cell_type": "code",
   "execution_count": 44,
   "metadata": {},
   "outputs": [],
   "source": [
    "raw = pd.read_csv('image_data.csv')"
   ]
  },
  {
   "cell_type": "code",
   "execution_count": 45,
   "metadata": {},
   "outputs": [
    {
     "data": {
      "text/html": [
       "<div>\n",
       "<style scoped>\n",
       "    .dataframe tbody tr th:only-of-type {\n",
       "        vertical-align: middle;\n",
       "    }\n",
       "\n",
       "    .dataframe tbody tr th {\n",
       "        vertical-align: top;\n",
       "    }\n",
       "\n",
       "    .dataframe thead th {\n",
       "        text-align: right;\n",
       "    }\n",
       "</style>\n",
       "<table border=\"1\" class=\"dataframe\">\n",
       "  <thead>\n",
       "    <tr style=\"text-align: right;\">\n",
       "      <th></th>\n",
       "      <th>Unnamed: 0</th>\n",
       "      <th>actual</th>\n",
       "      <th>converted</th>\n",
       "      <th>predicted</th>\n",
       "    </tr>\n",
       "  </thead>\n",
       "  <tbody>\n",
       "    <tr>\n",
       "      <td>0</td>\n",
       "      <td>1</td>\n",
       "      <td>May 21, 2019</td>\n",
       "      <td>2019-05-21</td>\n",
       "      <td>NaN</td>\n",
       "    </tr>\n",
       "    <tr>\n",
       "      <td>1</td>\n",
       "      <td>2</td>\n",
       "      <td>25-07-19</td>\n",
       "      <td>2019-07-25</td>\n",
       "      <td>2019-07-25</td>\n",
       "    </tr>\n",
       "    <tr>\n",
       "      <td>2</td>\n",
       "      <td>3</td>\n",
       "      <td>Sep 29, 2018</td>\n",
       "      <td>2018-09-29</td>\n",
       "      <td>NaN</td>\n",
       "    </tr>\n",
       "    <tr>\n",
       "      <td>3</td>\n",
       "      <td>4</td>\n",
       "      <td>Oct06' 16</td>\n",
       "      <td>2016-10-06</td>\n",
       "      <td>NaN</td>\n",
       "    </tr>\n",
       "    <tr>\n",
       "      <td>4</td>\n",
       "      <td>5</td>\n",
       "      <td>5/29/2019</td>\n",
       "      <td>2019-05-29</td>\n",
       "      <td>2019-05-29</td>\n",
       "    </tr>\n",
       "  </tbody>\n",
       "</table>\n",
       "</div>"
      ],
      "text/plain": [
       "   Unnamed: 0        actual   converted   predicted\n",
       "0           1  May 21, 2019  2019-05-21         NaN\n",
       "1           2      25-07-19  2019-07-25  2019-07-25\n",
       "2           3  Sep 29, 2018  2018-09-29         NaN\n",
       "3           4     Oct06' 16  2016-10-06         NaN\n",
       "4           5     5/29/2019  2019-05-29  2019-05-29"
      ]
     },
     "execution_count": 45,
     "metadata": {},
     "output_type": "execute_result"
    }
   ],
   "source": [
    "raw.head()"
   ]
  },
  {
   "cell_type": "code",
   "execution_count": 49,
   "metadata": {},
   "outputs": [
    {
     "data": {
      "text/plain": [
       "86"
      ]
     },
     "execution_count": 49,
     "metadata": {},
     "output_type": "execute_result"
    }
   ],
   "source": [
    "raw.actual.notna().sum()"
   ]
  },
  {
   "cell_type": "code",
   "execution_count": 53,
   "metadata": {},
   "outputs": [
    {
     "data": {
      "text/html": [
       "<div>\n",
       "<style scoped>\n",
       "    .dataframe tbody tr th:only-of-type {\n",
       "        vertical-align: middle;\n",
       "    }\n",
       "\n",
       "    .dataframe tbody tr th {\n",
       "        vertical-align: top;\n",
       "    }\n",
       "\n",
       "    .dataframe thead th {\n",
       "        text-align: right;\n",
       "    }\n",
       "</style>\n",
       "<table border=\"1\" class=\"dataframe\">\n",
       "  <thead>\n",
       "    <tr style=\"text-align: right;\">\n",
       "      <th></th>\n",
       "      <th>Unnamed: 0</th>\n",
       "      <th>actual</th>\n",
       "      <th>converted</th>\n",
       "      <th>predicted</th>\n",
       "    </tr>\n",
       "  </thead>\n",
       "  <tbody>\n",
       "    <tr>\n",
       "      <td>0</td>\n",
       "      <td>1</td>\n",
       "      <td>May 21, 2019</td>\n",
       "      <td>2019-05-21</td>\n",
       "      <td>NaN</td>\n",
       "    </tr>\n",
       "    <tr>\n",
       "      <td>1</td>\n",
       "      <td>2</td>\n",
       "      <td>25-07-19</td>\n",
       "      <td>2019-07-25</td>\n",
       "      <td>2019-07-25</td>\n",
       "    </tr>\n",
       "    <tr>\n",
       "      <td>2</td>\n",
       "      <td>3</td>\n",
       "      <td>Sep 29, 2018</td>\n",
       "      <td>2018-09-29</td>\n",
       "      <td>NaN</td>\n",
       "    </tr>\n",
       "    <tr>\n",
       "      <td>3</td>\n",
       "      <td>4</td>\n",
       "      <td>Oct06' 16</td>\n",
       "      <td>2016-10-06</td>\n",
       "      <td>NaN</td>\n",
       "    </tr>\n",
       "    <tr>\n",
       "      <td>4</td>\n",
       "      <td>5</td>\n",
       "      <td>5/29/2019</td>\n",
       "      <td>2019-05-29</td>\n",
       "      <td>2019-05-29</td>\n",
       "    </tr>\n",
       "    <tr>\n",
       "      <td>5</td>\n",
       "      <td>6</td>\n",
       "      <td>03-Jul-19</td>\n",
       "      <td>2019-07-03</td>\n",
       "      <td>2019-07-03</td>\n",
       "    </tr>\n",
       "    <tr>\n",
       "      <td>6</td>\n",
       "      <td>7</td>\n",
       "      <td>NaN</td>\n",
       "      <td>NaN</td>\n",
       "      <td>NaN</td>\n",
       "    </tr>\n",
       "    <tr>\n",
       "      <td>7</td>\n",
       "      <td>8</td>\n",
       "      <td>23-05-19</td>\n",
       "      <td>2019-05-23</td>\n",
       "      <td>NaN</td>\n",
       "    </tr>\n",
       "    <tr>\n",
       "      <td>8</td>\n",
       "      <td>9</td>\n",
       "      <td>07-01-19</td>\n",
       "      <td>2019-07-01</td>\n",
       "      <td>NaN</td>\n",
       "    </tr>\n",
       "    <tr>\n",
       "      <td>9</td>\n",
       "      <td>10</td>\n",
       "      <td>22-05-19</td>\n",
       "      <td>2019-05-22</td>\n",
       "      <td>NaN</td>\n",
       "    </tr>\n",
       "    <tr>\n",
       "      <td>10</td>\n",
       "      <td>11</td>\n",
       "      <td>07/17/2019</td>\n",
       "      <td>2019-07-17</td>\n",
       "      <td>2019-07-17</td>\n",
       "    </tr>\n",
       "    <tr>\n",
       "      <td>11</td>\n",
       "      <td>12</td>\n",
       "      <td>07-02-19</td>\n",
       "      <td>2019-07-02</td>\n",
       "      <td>2019-07-02</td>\n",
       "    </tr>\n",
       "    <tr>\n",
       "      <td>12</td>\n",
       "      <td>13</td>\n",
       "      <td>02-08-15</td>\n",
       "      <td>2015-02-08</td>\n",
       "      <td>NaN</td>\n",
       "    </tr>\n",
       "    <tr>\n",
       "      <td>13</td>\n",
       "      <td>14</td>\n",
       "      <td>22-Jul-19</td>\n",
       "      <td>2019-07-22</td>\n",
       "      <td>NaN</td>\n",
       "    </tr>\n",
       "    <tr>\n",
       "      <td>14</td>\n",
       "      <td>15</td>\n",
       "      <td>07/22/2019</td>\n",
       "      <td>2019-07-22</td>\n",
       "      <td>NaN</td>\n",
       "    </tr>\n",
       "    <tr>\n",
       "      <td>15</td>\n",
       "      <td>16</td>\n",
       "      <td>06-07-19</td>\n",
       "      <td>2019-06-07</td>\n",
       "      <td>NaN</td>\n",
       "    </tr>\n",
       "    <tr>\n",
       "      <td>16</td>\n",
       "      <td>17</td>\n",
       "      <td>5/24/2019</td>\n",
       "      <td>2019-05-24</td>\n",
       "      <td>NaN</td>\n",
       "    </tr>\n",
       "    <tr>\n",
       "      <td>17</td>\n",
       "      <td>18</td>\n",
       "      <td>4/15/16</td>\n",
       "      <td>2016-04-15</td>\n",
       "      <td>NaN</td>\n",
       "    </tr>\n",
       "    <tr>\n",
       "      <td>18</td>\n",
       "      <td>19</td>\n",
       "      <td>20-07-19</td>\n",
       "      <td>2019-07-20</td>\n",
       "      <td>NaN</td>\n",
       "    </tr>\n",
       "    <tr>\n",
       "      <td>19</td>\n",
       "      <td>20</td>\n",
       "      <td>5/20/2019</td>\n",
       "      <td>2019-05-20</td>\n",
       "      <td>NaN</td>\n",
       "    </tr>\n",
       "  </tbody>\n",
       "</table>\n",
       "</div>"
      ],
      "text/plain": [
       "    Unnamed: 0        actual   converted   predicted\n",
       "0            1  May 21, 2019  2019-05-21         NaN\n",
       "1            2      25-07-19  2019-07-25  2019-07-25\n",
       "2            3  Sep 29, 2018  2018-09-29         NaN\n",
       "3            4     Oct06' 16  2016-10-06         NaN\n",
       "4            5     5/29/2019  2019-05-29  2019-05-29\n",
       "5            6     03-Jul-19  2019-07-03  2019-07-03\n",
       "6            7           NaN         NaN         NaN\n",
       "7            8      23-05-19  2019-05-23         NaN\n",
       "8            9      07-01-19  2019-07-01         NaN\n",
       "9           10      22-05-19  2019-05-22         NaN\n",
       "10          11    07/17/2019  2019-07-17  2019-07-17\n",
       "11          12      07-02-19  2019-07-02  2019-07-02\n",
       "12          13      02-08-15  2015-02-08         NaN\n",
       "13          14     22-Jul-19  2019-07-22         NaN\n",
       "14          15    07/22/2019  2019-07-22         NaN\n",
       "15          16      06-07-19  2019-06-07         NaN\n",
       "16          17     5/24/2019  2019-05-24         NaN\n",
       "17          18       4/15/16  2016-04-15         NaN\n",
       "18          19      20-07-19  2019-07-20         NaN\n",
       "19          20     5/20/2019  2019-05-20         NaN"
      ]
     },
     "execution_count": 53,
     "metadata": {},
     "output_type": "execute_result"
    }
   ],
   "source": [
    "raw.head(20)"
   ]
  },
  {
   "cell_type": "code",
   "execution_count": 58,
   "metadata": {
    "collapsed": true
   },
   "outputs": [
    {
     "name": "stdout",
     "output_type": "stream",
     "text": [
      "0 2019-05-21 00:00:00\n",
      "1 2019-07-25 00:00:00\n",
      "2 2018-09-29 00:00:00\n",
      "3 2016-10-06 00:00:00\n",
      "4 2019-05-29 00:00:00\n",
      "5 2019-07-03 00:00:00\n",
      "6 2019-05-23 00:00:00\n",
      "7 2019-07-01 00:00:00\n",
      "8 2019-05-22 00:00:00\n",
      "9 2019-07-17 00:00:00\n",
      "10 2019-07-02 00:00:00\n",
      "11 2015-02-08 00:00:00\n",
      "12 2019-07-22 00:00:00\n",
      "13 2019-07-22 00:00:00\n",
      "14 2019-06-07 00:00:00\n",
      "15 2019-05-24 00:00:00\n",
      "16 2016-04-15 00:00:00\n",
      "17 2019-07-20 00:00:00\n",
      "18 2019-05-20 00:00:00\n",
      "19 2019-05-29 00:00:00\n",
      "20 2019-05-22 00:00:00\n",
      "21 2019-05-07 00:00:00\n",
      "22 2019-06-18 00:00:00\n",
      "23 2019-06-28 00:00:00\n",
      "24 2019-06-03 00:00:00\n",
      "25 2019-06-20 00:00:00\n",
      "26 2019-04-10 00:00:00\n",
      "27 2019-06-07 00:00:00\n",
      "28 2019-06-28 00:00:00\n",
      "29 2019-04-30 00:00:00\n",
      "30 2019-07-25 00:00:00\n",
      "31 2017-03-10 00:00:00\n",
      "32 2019-06-08 00:00:00\n",
      "33 2019-07-14 00:00:00\n",
      "34 2018-06-30 00:00:00\n",
      "35 2019-06-27 00:00:00\n",
      "36 2019-06-25 00:00:00\n",
      "37 2016-11-24 00:00:00\n",
      "38 2019-06-19 00:00:00\n",
      "39 2019-06-20 00:00:00\n",
      "40 2019-05-19 00:00:00\n",
      "41 2019-05-18 00:00:00\n",
      "42 2014-05-22 00:00:00\n",
      "43 2017-10-01 00:00:00\n",
      "44 2015-08-22 00:00:00\n",
      "45 2019-08-09 00:00:00\n",
      "46 2019-06-27 00:00:00\n",
      "47 2019-05-22 00:00:00\n",
      "48 2019-06-01 00:00:00\n",
      "49 2019-06-09 00:00:00\n",
      "50 2019-07-06 00:00:00\n",
      "51 2018-10-20 00:00:00\n",
      "52 2018-02-17 00:00:00\n",
      "53 2019-06-24 00:00:00\n",
      "54 2019-06-06 00:00:00\n",
      "55 2019-06-01 00:00:00\n",
      "56 2019-04-07 00:00:00\n",
      "57 2018-08-17 00:00:00\n",
      "58 2019-06-01 00:00:00\n",
      "59 2019-06-26 00:00:00\n",
      "60 2019-06-14 00:00:00\n",
      "61 2019-06-25 00:00:00\n",
      "62 2019-06-19 00:00:00\n",
      "63 2019-11-07 00:00:00\n",
      "64 2019-04-08 00:00:00\n",
      "65 2019-07-01 00:00:00\n",
      "66 2019-06-17 00:00:00\n",
      "67 2019-06-29 00:00:00\n",
      "68 2019-05-24 00:00:00\n",
      "69 2019-03-02 00:00:00\n",
      "70 2018-03-18 00:00:00\n",
      "71 2019-07-24 00:00:00\n",
      "72 2016-05-26 00:00:00\n",
      "73 2019-06-29 00:00:00\n",
      "74 2019-05-17 00:00:00\n",
      "75 2019-07-01 00:00:00\n",
      "76 2019-06-15 00:00:00\n",
      "77 2019-06-13 00:00:00\n",
      "78 2019-08-30 00:00:00\n",
      "79 2019-06-04 00:00:00\n",
      "80 2015-04-25 00:00:00\n",
      "81 2019-07-02 00:00:00\n",
      "82 2019-06-15 00:00:00\n",
      "83 2019-07-02 00:00:00\n",
      "84 2017-12-02 00:00:00\n",
      "85 2019-07-18 00:00:00\n"
     ]
    }
   ],
   "source": [
    "for j,i in enumerate(raw.actual[raw.actual.notnull()]):\n",
    "    print(j,parse(i))"
   ]
  },
  {
   "cell_type": "code",
   "execution_count": 74,
   "metadata": {},
   "outputs": [],
   "source": [
    "path = \"images/1.jpeg\"\n",
    "gaussian_filter = (5,5)\n",
    "img = cv2.imread(path) \n",
    "image = cv2.resize(img, None, fx = 2, fy = 2, interpolation=cv2.INTER_CUBIC) \n",
    "gray = cv2.cvtColor(image, cv2.COLOR_BGR2GRAY)\n",
    "blurred = cv2.GaussianBlur(gray, gaussian_filter, 0)\n",
    "edged = cv2.Canny(blurred, 0, 50)\n",
    "(contours, _) = cv2.findContours(edged, cv2.RETR_LIST, cv2.CHAIN_APPROX_NONE)\n",
    "contours = sorted(contours, key=cv2.contourArea, reverse=True)\n",
    "for c in contours:\n",
    "    p = cv2.arcLength(c, True)\n",
    "    approx = cv2.approxPolyDP(c, 0.02 * p, True)\n",
    "\n",
    "    if len(approx) == 4:\n",
    "        target = approx\n",
    "        break"
   ]
  },
  {
   "cell_type": "code",
   "execution_count": 82,
   "metadata": {},
   "outputs": [],
   "source": [
    "imz = Image.fromarray(ip.four_point_transform(blurred,target.reshape(4,2)))"
   ]
  },
  {
   "cell_type": "code",
   "execution_count": 80,
   "metadata": {
    "scrolled": true
   },
   "outputs": [
    {
     "data": {
      "image/png": "[encoded data removed]",
      "text/plain": [
       "<PIL.Image.Image image mode=L size=474x493 at 0x1A12AF14A90>"
      ]
     },
     "execution_count": 80,
     "metadata": {},
     "output_type": "execute_result"
    }
   ],
   "source": [
    "imz"
   ]
  },
  {
   "cell_type": "code",
   "execution_count": 83,
   "metadata": {
    "collapsed": true
   },
   "outputs": [
    {
     "name": "stdout",
     "output_type": "stream",
     "text": [
      "Easa ma Cate ®\n",
      "\n",
      " \n",
      "\n",
      " \n",
      "\n",
      "25-17 Astona Oivd 21, 2019\n",
      "Astoria, NY 11102 658 PM\n",
      "(929) 328-0030\n",
      "\n",
      "Ticket: TE\n",
      "\n",
      "On\n",
      "\n",
      "Grited Skirt Steak $28.00\n",
      "Wet done\n",
      "\n",
      "Fountain Sodas $3.00\n",
      "‘Subdtotal $31.00\n",
      "‘Sate Tax $275\n"
     ]
    }
   ],
   "source": [
    "print(pt.image_to_string(imz))"
   ]
  },
  {
   "cell_type": "code",
   "execution_count": 116,
   "metadata": {},
   "outputs": [
    {
     "name": "stderr",
     "output_type": "stream",
     "text": [
      "C:\\Users\\GirrajJangid\\Anaconda3\\lib\\site-packages\\h5py\\__init__.py:36: FutureWarning: Conversion of the second argument of issubdtype from `float` to `np.floating` is deprecated. In future, it will be treated as `np.float64 == np.dtype(float).type`.\n",
      "  from ._conv import register_converters as _register_converters\n"
     ]
    }
   ],
   "source": [
    "import tensorflow.keras as tf\n",
    "imgz  = (tf.applications.vgg16.preprocess_input(cv2.imread(\"images/1.jpeg\")))"
   ]
  },
  {
   "cell_type": "code",
   "execution_count": 118,
   "metadata": {},
   "outputs": [
    {
     "name": "stdout",
     "output_type": "stream",
     "text": [
      "Binet ines\n",
      "\n",
      "ee a\n",
      "\n",
      "aa\n",
      "ont\n",
      "\n",
      "oo\n"
     ]
    }
   ],
   "source": [
    "Image.fromarray(np.apply_along_axis(np.uint8,1,imgz))\n",
    "print(pt.image_to_string(Image.fromarray(np.apply_along_axis(np.uint8,1,imgz))))"
   ]
  }
 ],
 "metadata": {
  "kernelspec": {
   "display_name": "Python 3",
   "language": "python",
   "name": "python3"
  },
  "language_info": {
   "codemirror_mode": {
    "name": "ipython",
    "version": 3
   },
   "file_extension": ".py",
   "mimetype": "text/x-python",
   "name": "python",
   "nbconvert_exporter": "python",
   "pygments_lexer": "ipython3",
   "version": "3.6.5"
  }
 },
 "nbformat": 4,
 "nbformat_minor": 2
}
