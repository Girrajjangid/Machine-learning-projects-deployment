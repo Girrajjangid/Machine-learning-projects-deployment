{
 "cells": [
  {
   "cell_type": "code",
   "execution_count": 1,
   "metadata": {},
   "outputs": [
    {
     "name": "stdout",
     "output_type": "stream",
     "text": [
      "[53290.892559447646]\n"
     ]
    }
   ],
   "source": [
    "# if you are not use postman to send data then just simple run this file.\n",
    "\n",
    "import requests\n",
    "\n",
    "url = 'http://localhost:5000/predict_api'\n",
    "r = requests.post(url,json=[{'experience':2, 'test_score':9, 'interview_score':6}])\n",
    "\n",
    "print(r.json())"
   ]
  }
 ],
 "metadata": {
  "kernelspec": {
   "display_name": "Python 3",
   "language": "python",
   "name": "python3"
  },
  "language_info": {
   "codemirror_mode": {
    "name": "ipython",
    "version": 3
   },
   "file_extension": ".py",
   "mimetype": "text/x-python",
   "name": "python",
   "nbconvert_exporter": "python",
   "pygments_lexer": "ipython3",
   "version": "3.6.5"
  }
 },
 "nbformat": 4,
 "nbformat_minor": 2
}
